{
  "nbformat": 4,
  "nbformat_minor": 0,
  "metadata": {
    "kernelspec": {
      "display_name": "Python 3",
      "language": "python",
      "name": "python3"
    },
    "language_info": {
      "codemirror_mode": {
        "name": "ipython",
        "version": 3
      },
      "file_extension": ".py",
      "mimetype": "text/x-python",
      "name": "python",
      "nbconvert_exporter": "python",
      "pygments_lexer": "ipython3",
      "version": "3.7.3"
    },
    "colab": {
      "name": "hw0.ipynb",
      "provenance": [],
      "include_colab_link": true
    },
    "accelerator": "GPU"
  },
  "cells": [
    {
      "cell_type": "markdown",
      "metadata": {
        "id": "view-in-github",
        "colab_type": "text"
      },
      "source": [
        "<a href=\"https://colab.research.google.com/github/cyyeh/cmu-dl/blob/master/assignments/hw0/hw0.ipynb\" target=\"_parent\"><img src=\"https://colab.research.google.com/assets/colab-badge.svg\" alt=\"Open In Colab\"/></a>"
      ]
    },
    {
      "cell_type": "markdown",
      "metadata": {
        "id": "vHLbgqN-o6Wp",
        "colab_type": "text"
      },
      "source": [
        "# Homework 0"
      ]
    },
    {
      "cell_type": "code",
      "metadata": {
        "id": "s9Jf7mEup-aD",
        "colab_type": "code",
        "colab": {
          "base_uri": "https://localhost:8080/",
          "height": 187
        },
        "outputId": "85229430-1dab-452e-fd5f-4f3c7713a6ca"
      },
      "source": [
        "!git clone https://github.com/cyyeh/cmu-dl.git\n",
        "%cd cmu-dl/assignments/hw0\n",
        "%ls"
      ],
      "execution_count": 1,
      "outputs": [
        {
          "output_type": "stream",
          "text": [
            "Cloning into 'cmu-dl'...\n",
            "remote: Enumerating objects: 4, done.\u001b[K\n",
            "remote: Counting objects:  25% (1/4)\u001b[K\rremote: Counting objects:  50% (2/4)\u001b[K\rremote: Counting objects:  75% (3/4)\u001b[K\rremote: Counting objects: 100% (4/4)\u001b[K\rremote: Counting objects: 100% (4/4), done.\u001b[K\n",
            "remote: Compressing objects: 100% (4/4), done.\u001b[K\n",
            "remote: Total 2171 (delta 0), reused 2 (delta 0), pack-reused 2167\u001b[K\n",
            "Receiving objects: 100% (2171/2171), 88.70 MiB | 31.43 MiB/s, done.\n",
            "Resolving deltas: 100% (63/63), done.\n",
            "Checking out files: 100% (2089/2089), done.\n",
            "/content/cmu-dl/assignments/hw0\n",
            "hw0.ipynb  \u001b[0m\u001b[01;34mimages\u001b[0m/\n"
          ],
          "name": "stdout"
        }
      ]
    },
    {
      "cell_type": "markdown",
      "metadata": {
        "id": "Cs6AkB5Do6Wq",
        "colab_type": "text"
      },
      "source": [
        "## 1. Introduction"
      ]
    },
    {
      "cell_type": "markdown",
      "metadata": {
        "id": "ozbr63VTo6Wr",
        "colab_type": "text"
      },
      "source": [
        "Throughout this course, we will heavily rely on the NumPy and PyTorch libraries.\n",
        "\n",
        "The first library of interest is NumPy.\n",
        "\n",
        "> NumPy is the fundamental package for scientific computing with Python. It contains among other things:\n",
        ">\n",
        "> - a powerful N-dimensional array object\n",
        "> - sophisticated (broadcasting) functions\n",
        "> - tools for integrating C/C++ and Fortran code\n",
        "> - useful linear algebra, Fourier transform, and random number capabilities\n",
        "> \n",
        "> Besides its obvious scientific uses, NumPy can also be used as an efficient multi-dimensional container of generic data. Arbitrary data-types can be defined. This allows NumPy to seamlessly and speedily integrate with a wide variety of databases.\n",
        ">\n",
        "> —*[About NumPy](http://www.numpy.org/)*\n",
        "\n",
        "The second library of interest is PyTorch.\n",
        "> PyTorch is an open source deep learning platform that provides a seamless path from research prototyping to production deployment.\n",
        "> - *Hybrid Front-End:* A new hybrid front-end seamlessly transitions between eager mode and graph mode to provide both flexibility and speed.\n",
        "> - *Distributed Training:* Scalable distributed training and performance optimization in research and production is enabled by the torch.distributed backend.\n",
        "> - *Python-First:* Deep integration into Python allows popular libraries and packages to be used for easily writing neural network layers in Python.\n",
        "> - *Tools & Libraries:* A rich ecosystem of tools and libraries extends PyTorch and supports development in computer vision, NLP and more.\n",
        ">\n",
        "> —*[About PyTorch](https://pytorch.org/)*\n",
        "\n",
        "One consideration as to why we are using PyTorch is most succinctly summerized by Andrej Karpathy, Director of Artificial Intelligence and Autopilot Vision at Tesla. The technical summary can be found [here](https://twitter.com/karpathy/status/868178954032513024?lang=en)."
      ]
    },
    {
      "cell_type": "code",
      "metadata": {
        "id": "PFQ1I32yo6Wr",
        "colab_type": "code",
        "colab": {}
      },
      "source": [
        "import numpy as np\n",
        "import os\n",
        "import time\n",
        "import torch"
      ],
      "execution_count": 0,
      "outputs": []
    },
    {
      "cell_type": "markdown",
      "metadata": {
        "id": "U7-n6nERo6Wu",
        "colab_type": "text"
      },
      "source": [
        "---"
      ]
    },
    {
      "cell_type": "markdown",
      "metadata": {
        "id": "gfsV4Qfvo6Wv",
        "colab_type": "text"
      },
      "source": [
        "## 2. Vectorization\n",
        "\n",
        "Lists are a foundational data structure in Python, allowing us to create simple and complex algorithms to solve problems. However, in mathematics and particularly in linear algebra, we work with vectors and matrices to model problems and create statistical solutions. Through these exercises, we will begin introducing you to how to think more mathematically through the use of NumPy by starting with a process known as vectorization.\n",
        "\n",
        "Index chasing is a very valuable skill, and certainly one you will need in this course, but mathematical problems often have simpler and more efficient representations that use vectors. The process of converting from an implimentation that uses indicies to one that uses vectors is known as vectorization. Once vectorized, the resulting implimentation often yields to the user faster and more readable code than before.\n",
        "\n",
        "In the following problems, we will ask you to practice reading mathematical expressions and deduce their vectorized equivalent along with their implimentation in Python. You will use the NumPy array object as the Python equivalent to a vector, and in later sections you will work with sets of vectors known as matrices."
      ]
    },
    {
      "cell_type": "markdown",
      "metadata": {
        "id": "9EZfT0Xlo6Wx",
        "colab_type": "text"
      },
      "source": [
        "---"
      ]
    },
    {
      "cell_type": "markdown",
      "metadata": {
        "id": "j3qvSjwMo6Wy",
        "colab_type": "text"
      },
      "source": [
        "### 2.1 Dot Product\n",
        "\n",
        "In this task, you will implement the dot product function for numpy arrays.\n",
        "\n",
        "The dot product (also known as the scalar product or inner product) is the linear combination of the n real components of two vectors.\n",
        "\n",
        "$$x \\cdot y = x_1 y_1 + x_2 y_2 + \\cdots + x_n y_n$$\n",
        "\n",
        "**Your Task**: Implement the function `dot`."
      ]
    },
    {
      "cell_type": "code",
      "metadata": {
        "id": "ztTEUiXko6Wz",
        "colab_type": "code",
        "colab": {}
      },
      "source": [
        "def inefficient_dot(x, y):\n",
        "    \"\"\"\n",
        "    Inefficient dot product of two arrays.\n",
        "\n",
        "    Parameters: \n",
        "    x (numpy.ndarray): 1-dimensional numpy array.\n",
        "    y (numpy.ndarray): 1-dimensional numpy array.\n",
        "\n",
        "    Returns: \n",
        "    numpy.int64: scalar quantity.\n",
        "    \"\"\"    \n",
        "    assert(len(x) == len(y))\n",
        "    \n",
        "    result = 0\n",
        "    for i in range(len(x)):\n",
        "        result += x[i]*y[i]\n",
        "        \n",
        "    return result"
      ],
      "execution_count": 0,
      "outputs": []
    },
    {
      "cell_type": "code",
      "metadata": {
        "id": "nyYqUoSgo6W3",
        "colab_type": "code",
        "colab": {}
      },
      "source": [
        "def dot(x, y):\n",
        "    \"\"\"\n",
        "    Dot product of two arrays.\n",
        "\n",
        "    Parameters: \n",
        "    x (numpy.ndarray): 1-dimensional numpy array.\n",
        "    y (numpy.ndarray): 1-dimensional numpy array.\n",
        "\n",
        "    Returns: \n",
        "    numpy.int64: scalar quantity.\n",
        "    \"\"\"\n",
        "\n",
        "    return np.dot(x, y)"
      ],
      "execution_count": 0,
      "outputs": []
    },
    {
      "cell_type": "markdown",
      "metadata": {
        "id": "v7sfhqaBo6W6",
        "colab_type": "text"
      },
      "source": [
        "#### Test Example:"
      ]
    },
    {
      "cell_type": "code",
      "metadata": {
        "id": "bVtVGlawo6W7",
        "colab_type": "code",
        "colab": {
          "base_uri": "https://localhost:8080/",
          "height": 34
        },
        "outputId": "56f6e1dd-e08d-468d-8c12-88aa90a0ef4c"
      },
      "source": [
        "np.random.seed(0)\n",
        "X = np.random.randint(-1000, 1000, size=3000)\n",
        "Y = np.random.randint(-1000, 1000, size=3000)\n",
        "\n",
        "print(dot(X,Y))"
      ],
      "execution_count": 5,
      "outputs": [
        {
          "output_type": "stream",
          "text": [
            "7082791\n"
          ],
          "name": "stdout"
        }
      ]
    },
    {
      "cell_type": "markdown",
      "metadata": {
        "id": "Ev0PvDmBo6W_",
        "colab_type": "text"
      },
      "source": [
        "**Expected Output**: \n",
        "<table style = \"align:40%\">\n",
        "    <tr>\n",
        "        <td style=\"text-align:left;\"><tt><b> dot(X,Y) </b></tt></td> \n",
        "        <td style=\"text-align:left;\"><tt> 7082791 </tt></td> \n",
        "    </tr>\n",
        "</table>"
      ]
    },
    {
      "cell_type": "markdown",
      "metadata": {
        "id": "lf7HjcVAo6XA",
        "colab_type": "text"
      },
      "source": [
        "---"
      ]
    },
    {
      "cell_type": "markdown",
      "metadata": {
        "id": "9UzNo_5co6XA",
        "colab_type": "text"
      },
      "source": [
        "### 2.2 Outer Product\n",
        "\n",
        "In this task, you will implement the outer product function for numpy arrays.\n",
        "\n",
        "The outer product (also known as the tensor product) of vectors x and y is defined as\n",
        "\n",
        "$$\n",
        "x \\otimes y =\n",
        "\\begin{bmatrix}\n",
        "x_1 y_1 & x_1 y_2 & … & x_1 y_n\\\\\n",
        "x_2 y_1 & x_2 y_2 & … & x_2 y_n\\\\\n",
        "⋮ & ⋮ & ⋱ & ⋮ \\\\\n",
        "x_m y_1 & x_m y_2 & … & x_m y_n\n",
        "\\end{bmatrix}\n",
        "$$\n",
        "\n",
        "**Your Task**: Implement the function `outer`.\n"
      ]
    },
    {
      "cell_type": "code",
      "metadata": {
        "id": "6ppSsP1-o6XB",
        "colab_type": "code",
        "colab": {}
      },
      "source": [
        "def inefficient_outer(x, y):\n",
        "    \"\"\"\n",
        "    Inefficiently compute the outer product of two vectors.\n",
        "\n",
        "    Parameters: \n",
        "    x (numpy.ndarray): 1-dimensional numpy array.\n",
        "    y (numpy.ndarray): 1-dimensional numpy array.\n",
        "\n",
        "    Returns: \n",
        "    numpy.ndarray: 2-dimensional numpy array.\n",
        "    \"\"\"\n",
        "    result = np.zeros((len(x), len(y))) \n",
        "    for i in range(len(x)):\n",
        "        for j in range(len(y)):\n",
        "            result[i, j] = x[i]*y[j]\n",
        "    \n",
        "    return result"
      ],
      "execution_count": 0,
      "outputs": []
    },
    {
      "cell_type": "code",
      "metadata": {
        "id": "OL6-MDiho6XD",
        "colab_type": "code",
        "colab": {}
      },
      "source": [
        "def outer(x, y):\n",
        "    \"\"\"\n",
        "    Compute the outer product of two vectors.\n",
        "\n",
        "    Parameters: \n",
        "    x (numpy.ndarray): 1-dimensional numpy array.\n",
        "    y (numpy.ndarray): 1-dimensional numpy array.\n",
        "\n",
        "    Returns: \n",
        "    numpy.ndarray: 2-dimensional numpy array.\n",
        "    \"\"\"\n",
        "\n",
        "    return np.outer(x, y)"
      ],
      "execution_count": 0,
      "outputs": []
    },
    {
      "cell_type": "markdown",
      "metadata": {
        "id": "91oJZl6Yo6XG",
        "colab_type": "text"
      },
      "source": [
        "#### Test Example:"
      ]
    },
    {
      "cell_type": "code",
      "metadata": {
        "id": "QK3LeUZ_o6XG",
        "colab_type": "code",
        "colab": {
          "base_uri": "https://localhost:8080/",
          "height": 136
        },
        "outputId": "889f24ef-ae08-462e-da97-2c63d84921a6"
      },
      "source": [
        "np.random.seed(0)\n",
        "X = np.random.randint(-1000, 1000, size=3000)\n",
        "Y = np.random.randint(-1000, 1000, size=3000)\n",
        "\n",
        "print(outer(X,Y))"
      ],
      "execution_count": 8,
      "outputs": [
        {
          "output_type": "stream",
          "text": [
            "[[  59092 -144096  136512 ...  -53088  -86268   53404]\n",
            " [  82467 -201096  190512 ...  -74088 -120393   74529]\n",
            " [-122111  297768 -282096 ...  109704  178269 -110357]\n",
            " ...\n",
            " [-144551  352488 -333936 ...  129864  211029 -130637]\n",
            " [-179707  438216 -415152 ...  161448  262353 -162409]\n",
            " [  88825 -216600  205200 ...  -79800 -129675   80275]]\n"
          ],
          "name": "stdout"
        }
      ]
    },
    {
      "cell_type": "markdown",
      "metadata": {
        "id": "sbAPpiXVo6XJ",
        "colab_type": "text"
      },
      "source": [
        "**Expected Output**: \n",
        "<table style = \"align:40%\">\n",
        "    <tr>\n",
        "        <td style=\"text-align:left;\"><tt><b> outer(X,Y) </b></tt></td> \n",
        "        <td style=\"text-align:left;\"><tt> \n",
        "            [[&nbsp;&nbsp;59092&nbsp;-144096&nbsp;&nbsp;136512&nbsp;...&nbsp;&nbsp;-53088&nbsp;&nbsp;-86268&nbsp;&nbsp;&nbsp;53404] <br>\n",
        "            &nbsp;[&nbsp;&nbsp;82467&nbsp;-201096&nbsp;&nbsp;190512&nbsp;...&nbsp;&nbsp;-74088&nbsp;-120393&nbsp;&nbsp;&nbsp;74529] <br>\n",
        "            &nbsp;[-122111&nbsp;&nbsp;297768&nbsp;-282096&nbsp;...&nbsp;&nbsp;109704&nbsp;&nbsp;178269&nbsp;-110357] <br>\n",
        "            &nbsp;... <br>\n",
        "            &nbsp;[-144551&nbsp;&nbsp;352488&nbsp;-333936&nbsp;...&nbsp;&nbsp;129864&nbsp;&nbsp;211029&nbsp;-130637] <br>\n",
        "            &nbsp;[-179707&nbsp;&nbsp;438216&nbsp;-415152&nbsp;...&nbsp;&nbsp;161448&nbsp;&nbsp;262353&nbsp;-162409] <br>\n",
        "            &nbsp;[&nbsp;&nbsp;88825&nbsp;-216600&nbsp;&nbsp;205200&nbsp;...&nbsp;&nbsp;-79800&nbsp;-129675&nbsp;&nbsp;&nbsp;80275]] <br>\n",
        "        </tt></td> \n",
        "    </tr>\n",
        "</table>"
      ]
    },
    {
      "cell_type": "markdown",
      "metadata": {
        "id": "OQ0q0x35o6XJ",
        "colab_type": "text"
      },
      "source": [
        "---"
      ]
    },
    {
      "cell_type": "markdown",
      "metadata": {
        "id": "Y8DnkU-_o6XK",
        "colab_type": "text"
      },
      "source": [
        "### 2.3 Hadamard Product\n",
        "\n",
        "In this task, you will implement the Hadamard product function, `multiply`, for numpy arrays.\n",
        "\n",
        "The Hadamard product (also known as the Schur product or entrywise product) of vectors x and y is defined as\n",
        "\n",
        "$$\n",
        "x \\circ y =\n",
        "\\begin{bmatrix}\n",
        "x_{1} y_{1} & x_{2} y_{2} & … & x_{n} y_{n}\n",
        "\\end{bmatrix}\n",
        "$$\n",
        "\n",
        "**Your Task**: Implement the function `multiply`."
      ]
    },
    {
      "cell_type": "code",
      "metadata": {
        "id": "KG2WSmaUo6XK",
        "colab_type": "code",
        "colab": {}
      },
      "source": [
        "def inefficient_multiply(x, y):\n",
        "    \"\"\"\n",
        "    Inefficiently multiply arguments element-wise.\n",
        "\n",
        "    Parameters: \n",
        "    x (numpy.ndarray): 1-dimensional numpy array.\n",
        "    y (numpy.ndarray): 1-dimensional numpy array.\n",
        "\n",
        "    Returns: \n",
        "    numpy.ndarray: 1-dimensional numpy array.\n",
        "    \"\"\"\n",
        "    assert(len(x) == len(y))\n",
        "    \n",
        "    result = np.zeros(len(x))\n",
        "    for i in range(len(x)):\n",
        "        result[i] = x[i]*y[i]\n",
        "    \n",
        "    return result"
      ],
      "execution_count": 0,
      "outputs": []
    },
    {
      "cell_type": "code",
      "metadata": {
        "id": "LoblBSuUo6XM",
        "colab_type": "code",
        "colab": {}
      },
      "source": [
        "def multiply(x, y):\n",
        "    \"\"\"\n",
        "    Multiply arguments element-wise.\n",
        "\n",
        "    Parameters: \n",
        "    x (numpy.ndarray): 1-dimensional numpy array.\n",
        "    y (numpy.ndarray): 1-dimensional numpy array.\n",
        "\n",
        "    Returns: \n",
        "    numpy.ndarray: 1-dimensional numpy array.\n",
        "    \"\"\"\n",
        "\n",
        "    return np.multiply(x, y)"
      ],
      "execution_count": 0,
      "outputs": []
    },
    {
      "cell_type": "markdown",
      "metadata": {
        "id": "Gtsan791o6XP",
        "colab_type": "text"
      },
      "source": [
        "#### Test Example:"
      ]
    },
    {
      "cell_type": "code",
      "metadata": {
        "id": "IDunyGFdo6XP",
        "colab_type": "code",
        "colab": {
          "base_uri": "https://localhost:8080/",
          "height": 34
        },
        "outputId": "1e26c2ec-e263-468f-d13c-d1aa82eafa49"
      },
      "source": [
        "np.random.seed(0)\n",
        "X = np.random.randint(-1000, 1000, size=3000)\n",
        "Y = np.random.randint(-1000, 1000, size=3000)\n",
        "\n",
        "print(multiply(X,Y))"
      ],
      "execution_count": 11,
      "outputs": [
        {
          "output_type": "stream",
          "text": [
            "[  59092 -201096 -282096 ...  129864  262353   80275]\n"
          ],
          "name": "stdout"
        }
      ]
    },
    {
      "cell_type": "markdown",
      "metadata": {
        "id": "f0s3HjaXo6XR",
        "colab_type": "text"
      },
      "source": [
        "**Expected Output**: \n",
        "<table style = \"align:40%\">\n",
        "    <tr>\n",
        "        <td style=\"text-align:left;\"><tt><b> multiply(X,Y) </b></tt></td> \n",
        "        <td style=\"text-align:left;\"><tt>\n",
        "            [&nbsp;&nbsp;59092&nbsp;-201096&nbsp;-282096&nbsp;...&nbsp;&nbsp;129864&nbsp;&nbsp;262353&nbsp;&nbsp;&nbsp;80275]\n",
        "        </tt></td> \n",
        "    </tr>\n",
        "</table>"
      ]
    },
    {
      "cell_type": "markdown",
      "metadata": {
        "id": "v4MGmHlFo6XS",
        "colab_type": "text"
      },
      "source": [
        "---"
      ]
    },
    {
      "cell_type": "markdown",
      "metadata": {
        "id": "GoolW3f8o6XS",
        "colab_type": "text"
      },
      "source": [
        "### 2.4 Sum-Product\n",
        "In this task, you will implement the sum-product function for numpy arrays.\n",
        "\n",
        "The sum-product of vectors x and y, each with n real component, is defined as \n",
        "\n",
        "$$\n",
        "f(x, y) = \n",
        "{\n",
        "\\begin{bmatrix}\n",
        "1\\\\\n",
        "1\\\\\n",
        "⋮\\\\\n",
        "1\n",
        "\\end{bmatrix}^{\\;T}\n",
        "%\n",
        "\\begin{bmatrix}\n",
        "x_1 y_1 & x_1 y_2 & … & x_1 y_n\\\\\n",
        "x_2 y_1 & x_2 y_2 & … & x_2 y_n\\\\\n",
        "⋮ & ⋮ & ⋱ & ⋮ \\\\\n",
        "x_m y_1 & x_m y_2 & … & x_m y_n\n",
        "\\end{bmatrix}\n",
        "%\n",
        "\\begin{bmatrix}\n",
        "1\\\\\n",
        "1\\\\\n",
        "⋮\\\\\n",
        "1\n",
        "\\end{bmatrix}\n",
        "} = \n",
        "\\displaystyle\\sum_{i=1}^{n} \\displaystyle\\sum_{j=1}^{n} x_i \\cdot y_j\n",
        "$$\n",
        "\n",
        "**Your Task**: Implement the function `sumproduct`.\n"
      ]
    },
    {
      "cell_type": "code",
      "metadata": {
        "id": "OxLeZmw8o6XT",
        "colab_type": "code",
        "colab": {}
      },
      "source": [
        "def inefficient_sumproduct(x, y):\n",
        "    \"\"\"\n",
        "    Inefficiently sum over all the dimensions of the outer product \n",
        "    of two vectors.\n",
        "\n",
        "    Parameters: \n",
        "    x (numpy.ndarray): 1-dimensional numpy array.\n",
        "    y (numpy.ndarray): 1-dimensional numpy array.\n",
        "\n",
        "    Returns: \n",
        "    numpy.int64: scalar quantity.\n",
        "    \"\"\"\n",
        "    assert(len(x) == len(y))\n",
        "    \n",
        "    result = 0\n",
        "    for i in range(len(x)):\n",
        "        for j in range(len(y)):\n",
        "            result += x[i] * y[j]\n",
        "            \n",
        "    return result"
      ],
      "execution_count": 0,
      "outputs": []
    },
    {
      "cell_type": "code",
      "metadata": {
        "id": "ei6pUqP1o6XV",
        "colab_type": "code",
        "colab": {}
      },
      "source": [
        "def sumproduct(x, y):\n",
        "    \"\"\"\n",
        "    Sum over all the dimensions of the outer product of two vectors.\n",
        "\n",
        "    Parameters: \n",
        "    x (numpy.ndarray): 1-dimensional numpy array.\n",
        "    y (numpy.ndarray): 1-dimensional numpy array.\n",
        "\n",
        "    Returns: \n",
        "    numpy.int64: scalar quantity.\n",
        "    \"\"\"\n",
        "\n",
        "    return np.sum(np.outer(x, y))"
      ],
      "execution_count": 0,
      "outputs": []
    },
    {
      "cell_type": "markdown",
      "metadata": {
        "id": "IzRiEttoo6XX",
        "colab_type": "text"
      },
      "source": [
        "#### Test Example:"
      ]
    },
    {
      "cell_type": "code",
      "metadata": {
        "id": "vEvQXTslo6XY",
        "colab_type": "code",
        "colab": {
          "base_uri": "https://localhost:8080/",
          "height": 34
        },
        "outputId": "6545c640-60be-48db-f34f-fd5211eaf4b0"
      },
      "source": [
        "np.random.seed(0)\n",
        "X = np.random.randint(-1000, 1000, size=3000)\n",
        "Y = np.random.randint(-1000, 1000, size=3000)\n",
        "\n",
        "print(sumproduct(X,Y))"
      ],
      "execution_count": 20,
      "outputs": [
        {
          "output_type": "stream",
          "text": [
            "265421520\n"
          ],
          "name": "stdout"
        }
      ]
    },
    {
      "cell_type": "markdown",
      "metadata": {
        "id": "SvQ7Ph-No6Xc",
        "colab_type": "text"
      },
      "source": [
        "**Expected Output**: \n",
        "<table style = \"align:40%\">\n",
        "    <tr>\n",
        "        <td style=\"text-align:left;\"><tt><b> sumproduct(X,Y) </b></tt></td> \n",
        "        <td style=\"text-align:left;\"><tt> 265421520 </tt></td> \n",
        "    </tr>\n",
        "</table>"
      ]
    },
    {
      "cell_type": "markdown",
      "metadata": {
        "id": "JNsx3jx1o6Xd",
        "colab_type": "text"
      },
      "source": [
        "---"
      ]
    },
    {
      "cell_type": "markdown",
      "metadata": {
        "id": "Nuqeuurqo6Xd",
        "colab_type": "text"
      },
      "source": [
        "### 2.5 ReLU\n",
        "\n",
        "In this task, you will implement the ReLU activation function for numpy arrays.\n",
        "\n",
        "The ReLU activation (also known as the rectifier or rectified linear unit) matrix Z resulting from applying the ReLU function to matrix X is defined such that for $X,Z \\in M_{m \\times n} (\\mathbb{R})$, \n",
        "\n",
        "$$Z = {\\tt ReLU}(X) \\implies \\begin{cases}z_{ij} = x_{ij}&{\\mbox{if }}x_{ij}>0\\\\z_{ij} = 0&{\\mbox{otherwise.}}\\end{cases}$$\n",
        "\n",
        "For reference, it is common to use the notation $X = (x_{ij})$ and $Z = (z_{ij})$.\n",
        "\n",
        "**Your Task:** Implement the function `ReLU`."
      ]
    },
    {
      "cell_type": "code",
      "metadata": {
        "id": "V2D8ugkZo6Xe",
        "colab_type": "code",
        "colab": {}
      },
      "source": [
        "def inefficient_ReLU(x):\n",
        "    \"\"\"\n",
        "    Inefficiently applies the rectified linear unit function \n",
        "    element-wise.\n",
        "\n",
        "    Parameters: \n",
        "    x (numpy.ndarray): 2-dimensional numpy array.\n",
        "\n",
        "    Returns: \n",
        "    numpy.ndarray: 2-dimensional numpy array.\n",
        "    \"\"\"\n",
        "    result = np.copy(x)\n",
        "    for i in range(x.shape[0]):\n",
        "        for j in range(x.shape[1]):\n",
        "            if x[i][j] < 0:\n",
        "                result[i][j] = 0\n",
        "                \n",
        "    return result"
      ],
      "execution_count": 0,
      "outputs": []
    },
    {
      "cell_type": "code",
      "metadata": {
        "id": "XLVZLwZTo6Xg",
        "colab_type": "code",
        "colab": {}
      },
      "source": [
        "def ReLU(x):\n",
        "    \"\"\"\n",
        "    Applies the rectified linear unit function element-wise.\n",
        "\n",
        "    Parameters: \n",
        "    x (numpy.ndarray): 2-dimensional numpy array.\n",
        "\n",
        "    Returns: \n",
        "    numpy.ndarray: 2-dimensional numpy array.\n",
        "    \"\"\"\n",
        "\n",
        "    return np.where(x > 0, x, 0)"
      ],
      "execution_count": 0,
      "outputs": []
    },
    {
      "cell_type": "markdown",
      "metadata": {
        "id": "0YoINV_Co6Xi",
        "colab_type": "text"
      },
      "source": [
        "#### Test Example:"
      ]
    },
    {
      "cell_type": "code",
      "metadata": {
        "id": "9_cRUf2zo6Xi",
        "colab_type": "code",
        "colab": {
          "base_uri": "https://localhost:8080/",
          "height": 136
        },
        "outputId": "e16cda88-2a9c-4693-a59d-8cff5b22bf00"
      },
      "source": [
        "np.random.seed(0)\n",
        "X = np.random.randint(-1000, 1000, size=(3000,3000))\n",
        "\n",
        "print(ReLU(X))"
      ],
      "execution_count": 25,
      "outputs": [
        {
          "output_type": "stream",
          "text": [
            "[[  0   0 653 ... 773 961   0]\n",
            " [  0 456   0 ... 168 273   0]\n",
            " [936 475   0 ... 408   0   0]\n",
            " ...\n",
            " [  0 396 457 ... 646   0   0]\n",
            " [645 943   0 ... 863   0 790]\n",
            " [641   0 379 ... 347   0   0]]\n"
          ],
          "name": "stdout"
        }
      ]
    },
    {
      "cell_type": "markdown",
      "metadata": {
        "id": "SNLqtUUxo6Xk",
        "colab_type": "text"
      },
      "source": [
        "**Expected Output**: \n",
        "<table style = \"align:40%\">\n",
        "    <tr>\n",
        "        <td style=\"text-align:left;\"><tt><b> ReLU(X) </b></tt></td> \n",
        "        <td style=\"text-align:left;\"><tt>\n",
        "            [[&nbsp;&nbsp;0&nbsp;&nbsp;&nbsp;0&nbsp;653&nbsp;...&nbsp;773&nbsp;961&nbsp;&nbsp;&nbsp;0] <br>\n",
        "&nbsp;[&nbsp;&nbsp;0&nbsp;456&nbsp;&nbsp;&nbsp;0&nbsp;...&nbsp;168&nbsp;273&nbsp;&nbsp;&nbsp;0] <br>\n",
        "&nbsp;[936&nbsp;475&nbsp;&nbsp;&nbsp;0&nbsp;...&nbsp;408&nbsp;&nbsp;&nbsp;0&nbsp;&nbsp;&nbsp;0] <br>\n",
        "&nbsp;... <br>\n",
        "&nbsp;[&nbsp;&nbsp;0&nbsp;396&nbsp;457&nbsp;...&nbsp;646&nbsp;&nbsp;&nbsp;0&nbsp;&nbsp;&nbsp;0] <br>\n",
        "&nbsp;[645&nbsp;943&nbsp;&nbsp;&nbsp;0&nbsp;...&nbsp;863&nbsp;&nbsp;&nbsp;0&nbsp;790] <br>\n",
        "&nbsp;[641&nbsp;&nbsp;&nbsp;0&nbsp;379&nbsp;...&nbsp;347&nbsp;&nbsp;&nbsp;0&nbsp;&nbsp;&nbsp;0]]\n",
        "        </tt></td> \n",
        "    </tr>\n",
        "</table>"
      ]
    },
    {
      "cell_type": "markdown",
      "metadata": {
        "id": "2kIgWe-Ho6Xk",
        "colab_type": "text"
      },
      "source": [
        "---"
      ]
    },
    {
      "cell_type": "markdown",
      "metadata": {
        "id": "DeT5wKHzo6Xl",
        "colab_type": "text"
      },
      "source": [
        "### 2.6 Prime ReLU (derivative of ReLU)\n",
        "\n",
        "In this task, you will implement the derivative of the ReLU activation function for numpy arrays.\n",
        "\n",
        "The derivative of the ReLU activation matrix Z resulting from applying the derivative of the ReLU function to matrix X is defined such that for $X,Z \\in M_{m \\times n} (\\mathbb{R})$, \n",
        "\n",
        "$$Z = {\\tt PrimeReLU}(X) \\implies \\begin{cases}z_{ij} = \\frac{d}{dx_{ij}} (x_{ij})&{\\mbox{if }}x_{ij}> 0\\\\z_{ij} = \\frac{d}{dx_{ij}} (0)&{\\mbox{otherwise.}}\\end{cases}$$\n",
        "\n",
        "For reference, it is common to use the notation $X = (x_{ij})$ and $Z = (z_{ij})$.\n",
        "\n",
        "**Your Task:** Implement the function `PrimeReLU`."
      ]
    },
    {
      "cell_type": "code",
      "metadata": {
        "id": "m2jEPtoao6Xl",
        "colab_type": "code",
        "colab": {}
      },
      "source": [
        "def inefficient_PrimeReLU(x):\n",
        "    \"\"\"\n",
        "    Inefficiently applies the derivative of the rectified linear unit \n",
        "    function element-wise.\n",
        "\n",
        "    Parameters: \n",
        "    x (numpy.ndarray): 2-dimensional numpy array.\n",
        "\n",
        "    Returns: \n",
        "    numpy.ndarray: 2-dimensional numpy array.\n",
        "    \"\"\"\n",
        "\n",
        "    result = np.copy(x)\n",
        "    for i in range(x.shape[0]):\n",
        "        for j in range(x.shape[1]):\n",
        "            if x[i][j] < 0:\n",
        "                result[i][j] = 0\n",
        "            else:\n",
        "                result[i][j] = 1\n",
        "                \n",
        "    return result"
      ],
      "execution_count": 0,
      "outputs": []
    },
    {
      "cell_type": "code",
      "metadata": {
        "id": "6hxM3B92o6Xn",
        "colab_type": "code",
        "colab": {}
      },
      "source": [
        "def PrimeReLU(x):\n",
        "    \"\"\"\n",
        "    Applies the derivative of the rectified linear unit function \n",
        "    element-wise.\n",
        "\n",
        "    Parameters: \n",
        "    x (numpy.ndarray): 2-dimensional numpy array.\n",
        "\n",
        "    Returns: \n",
        "    numpy.ndarray: 2-dimensional numpy array.\n",
        "    \"\"\"\n",
        "\n",
        "    return np.where(x > 0, 1, 0)"
      ],
      "execution_count": 0,
      "outputs": []
    },
    {
      "cell_type": "markdown",
      "metadata": {
        "id": "sifqR_tUo6Xp",
        "colab_type": "text"
      },
      "source": [
        "#### Test Example:"
      ]
    },
    {
      "cell_type": "code",
      "metadata": {
        "id": "b7VtKduBo6Xp",
        "colab_type": "code",
        "colab": {
          "base_uri": "https://localhost:8080/",
          "height": 136
        },
        "outputId": "cd111368-dcec-427e-e610-4f8282387332"
      },
      "source": [
        "np.random.seed(0)\n",
        "X = np.random.randint(-1000, 1000, size=(3000,3000))\n",
        "\n",
        "print(PrimeReLU(X))"
      ],
      "execution_count": 27,
      "outputs": [
        {
          "output_type": "stream",
          "text": [
            "[[0 0 1 ... 1 1 0]\n",
            " [0 1 0 ... 1 1 0]\n",
            " [1 1 0 ... 1 0 0]\n",
            " ...\n",
            " [0 1 1 ... 1 0 0]\n",
            " [1 1 0 ... 1 0 1]\n",
            " [1 0 1 ... 1 0 0]]\n"
          ],
          "name": "stdout"
        }
      ]
    },
    {
      "cell_type": "markdown",
      "metadata": {
        "id": "pEm0kYmho6Xr",
        "colab_type": "text"
      },
      "source": [
        "**Expected Output**: \n",
        "<table style = \"align:40%\">\n",
        "    <tr>\n",
        "        <td style=\"text-align:left;\"><tt><b> PrimeReLU(X) </b></tt></td> \n",
        "        <td style=\"text-align:left;\"><tt>\n",
        "            [[0&nbsp;0&nbsp;1&nbsp;...&nbsp;1&nbsp;1&nbsp;0] <br>\n",
        "&nbsp;[0&nbsp;1&nbsp;0&nbsp;...&nbsp;1&nbsp;1&nbsp;0] <br>\n",
        "&nbsp;[1&nbsp;1&nbsp;0&nbsp;...&nbsp;1&nbsp;0&nbsp;0] <br>\n",
        "&nbsp;... <br>\n",
        "&nbsp;[0&nbsp;1&nbsp;1&nbsp;...&nbsp;1&nbsp;0&nbsp;0] <br>\n",
        "&nbsp;[1&nbsp;1&nbsp;0&nbsp;...&nbsp;1&nbsp;0&nbsp;1] <br>\n",
        "&nbsp;[1&nbsp;0&nbsp;1&nbsp;...&nbsp;1&nbsp;0&nbsp;0]]\n",
        "        </tt></td> \n",
        "    </tr>\n",
        "</table>"
      ]
    },
    {
      "cell_type": "markdown",
      "metadata": {
        "id": "a8ctuccHo6Xs",
        "colab_type": "text"
      },
      "source": [
        "---"
      ]
    },
    {
      "cell_type": "markdown",
      "metadata": {
        "id": "CDSRUwu9o6Xt",
        "colab_type": "text"
      },
      "source": [
        "## 3. Pre-processing\n",
        "When working with mathematical objects, there are often strict requirements on their contents such as dimension or set membership. This allows us to make proofs and conclusions about given objects, which motivate our mathematical models. However, data often not collected in a way that is consistent with our desired requirements.\n",
        "\n",
        "In this problem, you will be introduced to two types of data that will frequently be used in this course: univariate time-series data and multivariate time-series data. Your goal will be to process the given data such that its result is consistent with some requirements. Though the motivation behind these requirements may not yet be clear, they will, needless to say, become useful later in the course.\n",
        "\n",
        "For your implimentation, we encourage you to make use of NumPy to [slice](https://docs.scipy.org/doc/numpy/reference/arrays.indexing.html) and to [pad](https://docs.scipy.org/doc/numpy/reference/generated/numpy.pad.html) data."
      ]
    },
    {
      "cell_type": "code",
      "metadata": {
        "id": "cxlZKbuWo6Xt",
        "colab_type": "code",
        "colab": {}
      },
      "source": [
        "def get_data_1():\n",
        "    \"\"\"\n",
        "    This is the generating process from which example data 1 will derive\n",
        "    \n",
        "    Parameters: \n",
        "    None\n",
        "    \n",
        "    Returns: \n",
        "    numpy.ndarray: 1-d numpy array with 2-d numpy arrays as elements.\n",
        "    \"\"\"\n",
        "    freq000 = 3; freq001 = 1; freq002 = 4; freq003 = 1\n",
        "    freq010 = 5; freq011 = 9; freq012 = 2; freq013 = 6\n",
        "    freq020 = 5; freq021 = 3; freq022 = 5; freq023 = 8\n",
        "    frame00 = np.array([freq000, freq001, freq002, freq003])\n",
        "    frame01 = np.array([freq010, freq011, freq012, freq013])\n",
        "    frame02 = np.array([freq020, freq021, freq022, freq023])\n",
        "    utterance0 = np.array([frame00, frame01, frame02])\n",
        "\n",
        "    freq100 = 9; freq101 = 7; freq102 = 9; freq103 = 3\n",
        "    freq110 = 2; freq111 = 3; freq112 = 8; freq113 = 4\n",
        "    frame10 = np.array([freq100, freq101, freq102, freq103])\n",
        "    frame11 = np.array([freq110, freq111, freq112, freq113])\n",
        "    utterance1 = np.array([frame10, frame11])\n",
        "\n",
        "    freq200 = 6; freq201 = 2; freq202 = 6; freq203 = 4\n",
        "    freq210 = 3; freq211 = 3; freq212 = 8; freq213 = 3\n",
        "    freq220 = 2; freq221 = 7; freq222 = 9; freq223 = 5\n",
        "    freq230 = 0; freq231 = 2; freq232 = 8; freq233 = 8\n",
        "    frame20 = np.array([freq200, freq201, freq202, freq203])\n",
        "    frame21 = np.array([freq210, freq211, freq212, freq213])\n",
        "    frame22 = np.array([freq220, freq221, freq222, freq223])\n",
        "    frame23 = np.array([freq230, freq231, freq232, freq233])\n",
        "    utterance2 = np.array([frame20, frame21, frame22, frame23])\n",
        "\n",
        "    spectrograms = np.array([utterance0, utterance1, utterance2])\n",
        "\n",
        "    return spectrograms\n",
        "\n",
        "def get_data_2():\n",
        "    \"\"\"\n",
        "    This is the generating process from which example data 2 will derive\n",
        "    \n",
        "    Parameters: \n",
        "    None\n",
        "    \n",
        "    Returns: \n",
        "    numpy.ndarray: 1-d numpy array with 2-d numpy arrays as elements.\n",
        "    \"\"\"\n",
        "    np.random.seed(0)\n",
        "    recordings = np.random.randint(10)\n",
        "    durations = [np.random.randint(low=5, high=10) \n",
        "                 for i in range(recordings)]\n",
        "    data = []\n",
        "    k = 40 # Given as fixed constant\n",
        "    for duration in durations:\n",
        "        data.append(np.random.randint(10, size=(duration, k)))\n",
        "    data = np.asarray(data)\n",
        "    return data"
      ],
      "execution_count": 0,
      "outputs": []
    },
    {
      "cell_type": "markdown",
      "metadata": {
        "id": "PGlkqdcao6Xv",
        "colab_type": "text"
      },
      "source": [
        "#### Example 1 Data:\n",
        "\n",
        "<img src=\"https://github.com/cyyeh/cmu-dl/blob/master/assignments/hw0/images/ex3.png?raw=1\" width=\"600\">"
      ]
    },
    {
      "cell_type": "markdown",
      "metadata": {
        "id": "0jEaLVJ3o6Xw",
        "colab_type": "text"
      },
      "source": [
        "<table style = \"align:40%\">\n",
        "    <tr>\n",
        "        <td style=\"text-align:left;\"><tt><b> get_data_1() </b></tt></td> \n",
        "        <td style=\"text-align:left;\"><tt>\n",
        "[array([[3,&nbsp;1,&nbsp;4,&nbsp;1], <br>\n",
        "&nbsp;&nbsp;&nbsp;&nbsp;&nbsp;&nbsp;&nbsp;[5,&nbsp;9,&nbsp;2,&nbsp;6], <br>\n",
        "&nbsp;&nbsp;&nbsp;&nbsp;&nbsp;&nbsp;&nbsp;[5,&nbsp;3,&nbsp;5,&nbsp;8]]) <br>\n",
        "&nbsp;array([[9,&nbsp;7,&nbsp;9,&nbsp;3], <br>\n",
        "&nbsp;&nbsp;&nbsp;&nbsp;&nbsp;&nbsp;&nbsp;[2,&nbsp;3,&nbsp;8,&nbsp;4]]) <br>\n",
        "&nbsp;array([[6,&nbsp;2,&nbsp;6,&nbsp;4], <br>\n",
        "&nbsp;&nbsp;&nbsp;&nbsp;&nbsp;&nbsp;&nbsp;[3,&nbsp;3,&nbsp;8,&nbsp;3], <br>\n",
        "&nbsp;&nbsp;&nbsp;&nbsp;&nbsp;&nbsp;&nbsp;[2,&nbsp;7,&nbsp;9,&nbsp;5], <br>\n",
        "&nbsp;&nbsp;&nbsp;&nbsp;&nbsp;&nbsp;&nbsp;[0,&nbsp;2,&nbsp;8,&nbsp;8]])]\n",
        "        </tt></td> \n",
        "    </tr>\n",
        "</table>"
      ]
    },
    {
      "cell_type": "markdown",
      "metadata": {
        "id": "4byTt5Uso6Xw",
        "colab_type": "text"
      },
      "source": [
        "---"
      ]
    },
    {
      "cell_type": "markdown",
      "metadata": {
        "id": "TN34ZKsgo6Xw",
        "colab_type": "text"
      },
      "source": [
        "### 3.1 Slicing: Last Point\n",
        "Takes one 3-dimensional array with the length of the output instances. Your task is to keep only the $m$ last frames for each instance in the dataset. \n",
        "\n",
        "To the extent that it is helpful, a formal description provided in the Appendix.\n",
        "\n",
        "**Your Task:** Implement the function `slice_last_point`."
      ]
    },
    {
      "cell_type": "code",
      "metadata": {
        "id": "_EPPa0oDo6Xx",
        "colab_type": "code",
        "colab": {}
      },
      "source": [
        "def slice_last_point(x, m):\n",
        "    \"\"\"\n",
        "    Takes one 3-dimensional array with the length of the output instances.\n",
        "    Your task is to keep only the last m points for each instances in \n",
        "    the dataset.\n",
        "\n",
        "    Parameters: \n",
        "    x (numpy.ndarray): 1-d numpy array with 2-d numpy arrays as elements (n, ?, k). \n",
        "    m (int): The cutoff reference index in dimension 2.\n",
        "  \n",
        "    Returns: \n",
        "    numpy.ndarray: A 3-dimensional numpy array of shape (n, m, k)\n",
        "    \"\"\"\n",
        "    spectrograms = x\n",
        "    \n",
        "    # Input function dimension specification\n",
        "    assert(spectrograms.ndim == 1)\n",
        "    for utter in spectrograms:\n",
        "        assert(utter.ndim == 2)\n",
        "\n",
        "    # Pre-define output function dimension specification\n",
        "    dim1 = spectrograms.shape[0]    # n\n",
        "    dim2 = m                       # m\n",
        "    dim3 = spectrograms[0].shape[1] # k\n",
        "\n",
        "    result = np.zeros((dim1,dim2,dim3))\n",
        "\n",
        "    #### Start of your code ####\n",
        "\n",
        "    \n",
        "    ####  End of your code  ####\n",
        "\n",
        "    # Assert output function dimension specification\n",
        "    assert(result.shape[0] == dim1)\n",
        "    assert(result.shape[1] == dim2)\n",
        "    assert(result.shape[2] == dim3)\n",
        "    \n",
        "    return result"
      ],
      "execution_count": 0,
      "outputs": []
    },
    {
      "cell_type": "markdown",
      "metadata": {
        "id": "-8IymFrqo6Xz",
        "colab_type": "text"
      },
      "source": [
        "#### Example 1:"
      ]
    },
    {
      "cell_type": "code",
      "metadata": {
        "id": "CR_ClGxlo6Xz",
        "colab_type": "code",
        "colab": {},
        "outputId": "acd6c5af-7fe7-43a3-9c4c-6fdd25595267"
      },
      "source": [
        "spectrograms = get_data_1()\n",
        "duration = 2\n",
        "print(slice_last_point(spectrograms, duration))"
      ],
      "execution_count": 0,
      "outputs": [
        {
          "output_type": "stream",
          "text": [
            "[[[0. 0. 0. 0.]\n",
            "  [0. 0. 0. 0.]]\n",
            "\n",
            " [[0. 0. 0. 0.]\n",
            "  [0. 0. 0. 0.]]\n",
            "\n",
            " [[0. 0. 0. 0.]\n",
            "  [0. 0. 0. 0.]]]\n"
          ],
          "name": "stdout"
        }
      ]
    },
    {
      "cell_type": "markdown",
      "metadata": {
        "id": "KgKPIHOKo6X6",
        "colab_type": "text"
      },
      "source": [
        "#### Expected Output 1\n",
        "\n",
        "<img src=\"https://github.com/cyyeh/cmu-dl/blob/master/assignments/hw0/images/ex3-1.png?raw=1\" width=\"600\">"
      ]
    },
    {
      "cell_type": "markdown",
      "metadata": {
        "id": "Fdcm2ylUo6X6",
        "colab_type": "text"
      },
      "source": [
        "<table style = \"align:40%\">\n",
        "    <tr>\n",
        "        <td style=\"text-align:left;\"><tt><b> slice_last_point(<br>spectrograms, duration) </b></tt></td> \n",
        "        <td style=\"text-align:left;\"><tt>\n",
        "            [[[5.&nbsp;9.&nbsp;2.&nbsp;6.] <br>\n",
        "&nbsp;&nbsp;[5.&nbsp;3.&nbsp;5.&nbsp;8.]] <br>\n",
        "\n",
        "&nbsp;[[9.&nbsp;7.&nbsp;9.&nbsp;3.] <br>\n",
        "&nbsp;&nbsp;[2.&nbsp;3.&nbsp;8.&nbsp;4.]] <br>\n",
        "\n",
        "&nbsp;[[2.&nbsp;7.&nbsp;9.&nbsp;5.] <br>\n",
        "&nbsp;&nbsp;[0.&nbsp;2.&nbsp;8.&nbsp;8.]]] <br>\n",
        "        </tt></td> \n",
        "    </tr>\n",
        "</table>"
      ]
    },
    {
      "cell_type": "markdown",
      "metadata": {
        "id": "YvP40YYZo6X6",
        "colab_type": "text"
      },
      "source": [
        "#### Example 2:"
      ]
    },
    {
      "cell_type": "code",
      "metadata": {
        "id": "txizI_S3o6X7",
        "colab_type": "code",
        "colab": {},
        "outputId": "a4f157c1-0081-4e4b-814b-9ab8d7ba7783"
      },
      "source": [
        "data = get_data_2()\n",
        "m = 5\n",
        "print(slice_last_point(data, m)[1])"
      ],
      "execution_count": 0,
      "outputs": [
        {
          "output_type": "stream",
          "text": [
            "[[0. 0. 0. 0. 0. 0. 0. 0. 0. 0. 0. 0. 0. 0. 0. 0. 0. 0. 0. 0. 0. 0. 0. 0.\n",
            "  0. 0. 0. 0. 0. 0. 0. 0. 0. 0. 0. 0. 0. 0. 0. 0.]\n",
            " [0. 0. 0. 0. 0. 0. 0. 0. 0. 0. 0. 0. 0. 0. 0. 0. 0. 0. 0. 0. 0. 0. 0. 0.\n",
            "  0. 0. 0. 0. 0. 0. 0. 0. 0. 0. 0. 0. 0. 0. 0. 0.]\n",
            " [0. 0. 0. 0. 0. 0. 0. 0. 0. 0. 0. 0. 0. 0. 0. 0. 0. 0. 0. 0. 0. 0. 0. 0.\n",
            "  0. 0. 0. 0. 0. 0. 0. 0. 0. 0. 0. 0. 0. 0. 0. 0.]\n",
            " [0. 0. 0. 0. 0. 0. 0. 0. 0. 0. 0. 0. 0. 0. 0. 0. 0. 0. 0. 0. 0. 0. 0. 0.\n",
            "  0. 0. 0. 0. 0. 0. 0. 0. 0. 0. 0. 0. 0. 0. 0. 0.]\n",
            " [0. 0. 0. 0. 0. 0. 0. 0. 0. 0. 0. 0. 0. 0. 0. 0. 0. 0. 0. 0. 0. 0. 0. 0.\n",
            "  0. 0. 0. 0. 0. 0. 0. 0. 0. 0. 0. 0. 0. 0. 0. 0.]]\n"
          ],
          "name": "stdout"
        }
      ]
    },
    {
      "cell_type": "markdown",
      "metadata": {
        "id": "lPTnRaeho6X9",
        "colab_type": "text"
      },
      "source": [
        "**Expected Output 2**: \n",
        "<table style = \"align:40%\"  >\n",
        "    <tr>\n",
        "        <td style=\"text-align:left;\"><tt><b> slice_last_point(<br>data, m)[1] </b></tt></td> \n",
        "        <td style=\"text-align:left;\"><tt>\n",
        "[[7.&nbsp;2.&nbsp;7.&nbsp;1.&nbsp;6.&nbsp;5.&nbsp;0.&nbsp;0.&nbsp;3.&nbsp;1.&nbsp;9.&nbsp;9.&nbsp;6.&nbsp;6.&nbsp;7.&nbsp;8.&nbsp;8.&nbsp;7.&nbsp;0.&nbsp;8.&nbsp;6.&nbsp;8.&nbsp;9.&nbsp;8. <br>\n",
        "&nbsp;&nbsp;3.&nbsp;6.&nbsp;1.&nbsp;7.&nbsp;4.&nbsp;9.&nbsp;2.&nbsp;0.&nbsp;8.&nbsp;2.&nbsp;7.&nbsp;8.&nbsp;4.&nbsp;4.&nbsp;1.&nbsp;7.] <br>\n",
        "&nbsp;[6.&nbsp;9.&nbsp;4.&nbsp;1.&nbsp;5.&nbsp;9.&nbsp;7.&nbsp;1.&nbsp;3.&nbsp;5.&nbsp;7.&nbsp;3.&nbsp;6.&nbsp;6.&nbsp;7.&nbsp;9.&nbsp;1.&nbsp;9.&nbsp;6.&nbsp;0.&nbsp;3.&nbsp;8.&nbsp;4.&nbsp;1. <br>\n",
        "&nbsp;&nbsp;4.&nbsp;5.&nbsp;0.&nbsp;3.&nbsp;1.&nbsp;4.&nbsp;4.&nbsp;4.&nbsp;0.&nbsp;0.&nbsp;8.&nbsp;4.&nbsp;6.&nbsp;9.&nbsp;3.&nbsp;3.] <br>\n",
        "&nbsp;[2.&nbsp;1.&nbsp;2.&nbsp;1.&nbsp;3.&nbsp;4.&nbsp;1.&nbsp;1.&nbsp;0.&nbsp;7.&nbsp;8.&nbsp;4.&nbsp;3.&nbsp;5.&nbsp;6.&nbsp;3.&nbsp;2.&nbsp;9.&nbsp;8.&nbsp;1.&nbsp;4.&nbsp;0.&nbsp;8.&nbsp;3. <br>\n",
        "&nbsp;&nbsp;9.&nbsp;5.&nbsp;5.&nbsp;1.&nbsp;7.&nbsp;8.&nbsp;6.&nbsp;4.&nbsp;7.&nbsp;3.&nbsp;5.&nbsp;3.&nbsp;6.&nbsp;4.&nbsp;7.&nbsp;3.] <br>\n",
        "&nbsp;[0.&nbsp;5.&nbsp;9.&nbsp;3.&nbsp;7.&nbsp;5.&nbsp;5.&nbsp;8.&nbsp;0.&nbsp;8.&nbsp;3.&nbsp;6.&nbsp;9.&nbsp;3.&nbsp;2.&nbsp;7.&nbsp;0.&nbsp;3.&nbsp;0.&nbsp;3.&nbsp;6.&nbsp;1.&nbsp;9.&nbsp;2. <br>\n",
        "&nbsp;&nbsp;9.&nbsp;4.&nbsp;9.&nbsp;1.&nbsp;3.&nbsp;2.&nbsp;4.&nbsp;9.&nbsp;7.&nbsp;4.&nbsp;9.&nbsp;4.&nbsp;1.&nbsp;2.&nbsp;7.&nbsp;2.] <br>\n",
        "&nbsp;[3.&nbsp;9.&nbsp;7.&nbsp;6.&nbsp;6.&nbsp;2.&nbsp;3.&nbsp;6.&nbsp;0.&nbsp;8.&nbsp;0.&nbsp;7.&nbsp;6.&nbsp;5.&nbsp;9.&nbsp;6.&nbsp;5.&nbsp;2.&nbsp;7.&nbsp;1.&nbsp;9.&nbsp;2.&nbsp;2.&nbsp;5. <br>\n",
        "&nbsp;&nbsp;6.&nbsp;4.&nbsp;2.&nbsp;2.&nbsp;1.&nbsp;0.&nbsp;9.&nbsp;0.&nbsp;2.&nbsp;8.&nbsp;3.&nbsp;0.&nbsp;8.&nbsp;8.&nbsp;1.&nbsp;0.]]\n",
        "        </tt></td> \n",
        "    </tr>\n",
        "</table>"
      ]
    },
    {
      "cell_type": "markdown",
      "metadata": {
        "id": "69j80Fgzo6X9",
        "colab_type": "text"
      },
      "source": [
        "---"
      ]
    },
    {
      "cell_type": "markdown",
      "metadata": {
        "id": "Oq-LBDSxo6X-",
        "colab_type": "text"
      },
      "source": [
        "### 3.2 Slicing: Fixed Point\n",
        "Takes one 3-dimensional array with the starting position and the length of the output instances. Your task is to slice the instances from the same starting position for the given length.\n",
        "\n",
        "To the extent that it is helpful, a formal description provided in the Appendix.\n",
        "\n",
        "**Your Task:** Implement the function `slice_fixed_point`."
      ]
    },
    {
      "cell_type": "code",
      "metadata": {
        "id": "L45YxHVio6X-",
        "colab_type": "code",
        "colab": {}
      },
      "source": [
        "def slice_fixed_point(x, s, m):\n",
        "    \"\"\"\n",
        "    Takes one 3-dimensional array with the starting position and the \n",
        "    length of the output instances. Your task is to slice the instances \n",
        "    from the same starting position for the given length.\n",
        "\n",
        "    Parameters:\n",
        "    x (numpy.ndarray): 1-d numpy array with 2-d numpy arrays as elements (n, ?, k).\n",
        "    s (int): The starting reference index in dimension 2.\n",
        "    m (int): The cutoff reference index in dimension 2.\n",
        "    \n",
        "    Returns:\n",
        "    numpy.ndarray: A 3-dimensional int numpy array of shape (n, m-s, k)\n",
        "    \"\"\"\n",
        "    spectrograms = x\n",
        "    \n",
        "    # Input function dimension specification\n",
        "    assert(spectrograms.ndim == 1)\n",
        "    for utter in spectrograms:\n",
        "        assert(utter.ndim == 2)\n",
        "\n",
        "    # Pre-define output function dimension specification\n",
        "    dim1 = spectrograms.shape[0]     # n\n",
        "    dim2 = m-s                      # m-s\n",
        "    dim3 = spectrograms[0].shape[1]  # k\n",
        "\n",
        "    result = np.zeros((dim1,dim2,dim3))\n",
        "\n",
        "    #### Start of your code ####\n",
        "\n",
        "    \n",
        "    ####  End of your code  ####\n",
        "\n",
        "    # Assert output function dimension specification\n",
        "    assert(result.shape[0] == dim1)\n",
        "    assert(result.shape[1] == dim2)\n",
        "    assert(result.shape[2] == dim3)\n",
        "    \n",
        "    return result"
      ],
      "execution_count": 0,
      "outputs": []
    },
    {
      "cell_type": "markdown",
      "metadata": {
        "id": "7UVezLmKo6X_",
        "colab_type": "text"
      },
      "source": [
        "#### Test Example 1:"
      ]
    },
    {
      "cell_type": "code",
      "metadata": {
        "id": "yCZoz66Bo6YA",
        "colab_type": "code",
        "colab": {},
        "outputId": "b37a6e51-7f88-4c86-aa82-ebd8b9c57681"
      },
      "source": [
        "spectrograms = get_data_1()\n",
        "start = 0\n",
        "end = 2\n",
        "print(slice_fixed_point(spectrograms, start, end))"
      ],
      "execution_count": 0,
      "outputs": [
        {
          "output_type": "stream",
          "text": [
            "[[[0. 0. 0. 0.]\n",
            "  [0. 0. 0. 0.]]\n",
            "\n",
            " [[0. 0. 0. 0.]\n",
            "  [0. 0. 0. 0.]]\n",
            "\n",
            " [[0. 0. 0. 0.]\n",
            "  [0. 0. 0. 0.]]]\n"
          ],
          "name": "stdout"
        }
      ]
    },
    {
      "cell_type": "markdown",
      "metadata": {
        "id": "NGLd77DBo6YB",
        "colab_type": "text"
      },
      "source": [
        "#### Expected Output 1\n",
        "\n",
        "<img src=\"https://github.com/cyyeh/cmu-dl/blob/master/assignments/hw0/images/ex3-2.png?raw=1\" width=\"600\">"
      ]
    },
    {
      "cell_type": "markdown",
      "metadata": {
        "id": "UGMpXywio6YC",
        "colab_type": "text"
      },
      "source": [
        "<table style = \"align:40%\">\n",
        "    <tr>\n",
        "        <td style=\"text-align:left;\"><tt><b> slice_fixed_point(<br>spectrograms, start, end) </b></tt></td> \n",
        "        <td style=\"text-align:left;\"><tt>\n",
        "            [[[3.&nbsp;1.&nbsp;4.&nbsp;1.] <br>\n",
        "&nbsp;&nbsp;[5.&nbsp;9.&nbsp;2.&nbsp;6.]] <br>\n",
        "\n",
        "&nbsp;[[9.&nbsp;7.&nbsp;9.&nbsp;3.] <br>\n",
        "&nbsp;&nbsp;[2.&nbsp;3.&nbsp;8.&nbsp;4.]] <br>\n",
        "\n",
        "&nbsp;[[6.&nbsp;2.&nbsp;6.&nbsp;4.] <br>\n",
        "&nbsp;&nbsp;[3.&nbsp;3.&nbsp;8.&nbsp;3.]]] <br>\n",
        "        </tt></td> \n",
        "    </tr>\n",
        "</table>"
      ]
    },
    {
      "cell_type": "markdown",
      "metadata": {
        "id": "PVCS5rVvo6YC",
        "colab_type": "text"
      },
      "source": [
        "#### Test Example 2:"
      ]
    },
    {
      "cell_type": "code",
      "metadata": {
        "id": "IilRPX5eo6YC",
        "colab_type": "code",
        "colab": {},
        "outputId": "8b9b4b39-970e-4af3-c780-3c9cdf46f46b"
      },
      "source": [
        "data = get_data_2()\n",
        "s = 2\n",
        "m = 5\n",
        "print(slice_fixed_point(data, s, m)[1])"
      ],
      "execution_count": 0,
      "outputs": [
        {
          "output_type": "stream",
          "text": [
            "[[0. 0. 0. 0. 0. 0. 0. 0. 0. 0. 0. 0. 0. 0. 0. 0. 0. 0. 0. 0. 0. 0. 0. 0.\n",
            "  0. 0. 0. 0. 0. 0. 0. 0. 0. 0. 0. 0. 0. 0. 0. 0.]\n",
            " [0. 0. 0. 0. 0. 0. 0. 0. 0. 0. 0. 0. 0. 0. 0. 0. 0. 0. 0. 0. 0. 0. 0. 0.\n",
            "  0. 0. 0. 0. 0. 0. 0. 0. 0. 0. 0. 0. 0. 0. 0. 0.]\n",
            " [0. 0. 0. 0. 0. 0. 0. 0. 0. 0. 0. 0. 0. 0. 0. 0. 0. 0. 0. 0. 0. 0. 0. 0.\n",
            "  0. 0. 0. 0. 0. 0. 0. 0. 0. 0. 0. 0. 0. 0. 0. 0.]]\n"
          ],
          "name": "stdout"
        }
      ]
    },
    {
      "cell_type": "markdown",
      "metadata": {
        "id": "a9gLCaMUo6YE",
        "colab_type": "text"
      },
      "source": [
        "**Expected Output 2**: \n",
        "<table style = \"align:40%\">\n",
        "    <tr>\n",
        "        <td style=\"text-align:left;\"><tt><b> slice_fixed_point(<br>data, s, m)[1] </b></tt></td> \n",
        "        <td style=\"text-align:left;\"><tt>\n",
        "[[8.&nbsp;7.&nbsp;0.&nbsp;3.&nbsp;8.&nbsp;7.&nbsp;7.&nbsp;1.&nbsp;8.&nbsp;4.&nbsp;7.&nbsp;0.&nbsp;4.&nbsp;9.&nbsp;0.&nbsp;6.&nbsp;4.&nbsp;2.&nbsp;4.&nbsp;6.&nbsp;3.&nbsp;3.&nbsp;7.&nbsp;8. <br>\n",
        "&nbsp;&nbsp;5.&nbsp;0.&nbsp;8.&nbsp;5.&nbsp;4.&nbsp;7.&nbsp;4.&nbsp;1.&nbsp;3.&nbsp;3.&nbsp;9.&nbsp;2.&nbsp;5.&nbsp;2.&nbsp;3.&nbsp;5.] <br>\n",
        "&nbsp;[7.&nbsp;2.&nbsp;7.&nbsp;1.&nbsp;6.&nbsp;5.&nbsp;0.&nbsp;0.&nbsp;3.&nbsp;1.&nbsp;9.&nbsp;9.&nbsp;6.&nbsp;6.&nbsp;7.&nbsp;8.&nbsp;8.&nbsp;7.&nbsp;0.&nbsp;8.&nbsp;6.&nbsp;8.&nbsp;9.&nbsp;8. <br>\n",
        "&nbsp;&nbsp;3.&nbsp;6.&nbsp;1.&nbsp;7.&nbsp;4.&nbsp;9.&nbsp;2.&nbsp;0.&nbsp;8.&nbsp;2.&nbsp;7.&nbsp;8.&nbsp;4.&nbsp;4.&nbsp;1.&nbsp;7.] <br>\n",
        "&nbsp;[6.&nbsp;9.&nbsp;4.&nbsp;1.&nbsp;5.&nbsp;9.&nbsp;7.&nbsp;1.&nbsp;3.&nbsp;5.&nbsp;7.&nbsp;3.&nbsp;6.&nbsp;6.&nbsp;7.&nbsp;9.&nbsp;1.&nbsp;9.&nbsp;6.&nbsp;0.&nbsp;3.&nbsp;8.&nbsp;4.&nbsp;1. <br>\n",
        "&nbsp;&nbsp;4.&nbsp;5.&nbsp;0.&nbsp;3.&nbsp;1.&nbsp;4.&nbsp;4.&nbsp;4.&nbsp;0.&nbsp;0.&nbsp;8.&nbsp;4.&nbsp;6.&nbsp;9.&nbsp;3.&nbsp;3.]]\n",
        "        </tt></td> \n",
        "    </tr>\n",
        "</table>"
      ]
    },
    {
      "cell_type": "markdown",
      "metadata": {
        "id": "wdH4QjRFo6YE",
        "colab_type": "text"
      },
      "source": [
        "---"
      ]
    },
    {
      "cell_type": "markdown",
      "metadata": {
        "id": "8_kccfjko6YE",
        "colab_type": "text"
      },
      "source": [
        "### 3.3 Slicing: Random Point\n",
        "Takes one 3-dimensional array with the length of the output instances. Your task is to slice the instances from a random point in each of the utterances with the given length. Please use function `numpy.random.randint` for generating the starting position.\n",
        "\n",
        "To the extent that it is helpful, a formal description provided in the Appendix.\n",
        "\n",
        "**Your Task:** Implement the function `slice_random_point`."
      ]
    },
    {
      "cell_type": "code",
      "metadata": {
        "id": "bfnoHuJho6YE",
        "colab_type": "code",
        "colab": {}
      },
      "source": [
        "def slice_random_point(x, d):\n",
        "    \"\"\"\n",
        "    Takes one 3-dimensional array with the length of the output instances.\n",
        "    Your task is to slice the instances from a random point in each of the\n",
        "    utterances with the given length. Please use offset and refer to their \n",
        "    mathematical correspondance.\n",
        "\n",
        "    Parameters: \n",
        "    x (numpy.ndarray): 1-d numpy array with 2-d numpy arrays as elements (n, ?, k).\n",
        "    d (int): The resulting size of the data in dimension 2.\n",
        "    \n",
        "    Returns: \n",
        "    numpy.ndarray: A 3-dimensional int numpy array of shape (n, d, k)\n",
        "    \"\"\"\n",
        "    spectrograms = x\n",
        "    \n",
        "    # Input function dimension specification\n",
        "    assert(spectrograms.ndim == 1)\n",
        "    for utter in spectrograms:\n",
        "        assert(utter.ndim == 2)\n",
        "        assert(utter.shape[0] >= d)\n",
        "\n",
        "    offset = [np.random.randint(utter.shape[0]-d+1)\n",
        "              if utter.shape[0]-d > 0 else 0\n",
        "              for utter in spectrograms]\n",
        "\n",
        "    # Pre-define output function dimension specification\n",
        "    dim1 = spectrograms.shape[0]    # n\n",
        "    dim2 = d                       # d\n",
        "    dim3 = spectrograms[0].shape[1] # k\n",
        "\n",
        "    result = np.zeros((dim1,dim2,dim3))\n",
        "\n",
        "    #### Start of your code ####\n",
        "\n",
        "    \n",
        "    \n",
        "    \n",
        "    ####  End of your code  ####\n",
        "\n",
        "    # Assert output function dimension specification\n",
        "    assert(result.shape[0] == dim1)\n",
        "    assert(result.shape[1] == dim2)\n",
        "    assert(result.shape[2] == dim3)\n",
        "    \n",
        "    return result"
      ],
      "execution_count": 0,
      "outputs": []
    },
    {
      "cell_type": "markdown",
      "metadata": {
        "id": "UoyjF5JLo6YG",
        "colab_type": "text"
      },
      "source": [
        "#### Test Example 1:"
      ]
    },
    {
      "cell_type": "code",
      "metadata": {
        "id": "xEiGk00jo6YH",
        "colab_type": "code",
        "colab": {},
        "outputId": "1d0f6871-e724-4347-b429-cc853318065b"
      },
      "source": [
        "np.random.seed(1)\n",
        "spectrograms = get_data_1()\n",
        "duration = 2\n",
        "print(slice_random_point(spectrograms, duration))"
      ],
      "execution_count": 0,
      "outputs": [
        {
          "output_type": "stream",
          "text": [
            "[[[0. 0. 0. 0.]\n",
            "  [0. 0. 0. 0.]]\n",
            "\n",
            " [[0. 0. 0. 0.]\n",
            "  [0. 0. 0. 0.]]\n",
            "\n",
            " [[0. 0. 0. 0.]\n",
            "  [0. 0. 0. 0.]]]\n"
          ],
          "name": "stdout"
        }
      ]
    },
    {
      "cell_type": "markdown",
      "metadata": {
        "id": "Hc3_Dj3no6YI",
        "colab_type": "text"
      },
      "source": [
        "#### Expected Output 1\n",
        "\n",
        "<img src=\"https://github.com/cyyeh/cmu-dl/blob/master/assignments/hw0/images/ex3-3.png?raw=1\" width=\"600\">"
      ]
    },
    {
      "cell_type": "markdown",
      "metadata": {
        "id": "RS216OxZo6YI",
        "colab_type": "text"
      },
      "source": [
        "<table style = \"align:40%\">\n",
        "    <tr>\n",
        "        <td style=\"text-align:left;\"><tt><b> slice_random_point(<br>spectrograms, duration) </b></tt></td> \n",
        "        <td style=\"text-align:left;\"><tt>\n",
        "            [[[5.&nbsp;9.&nbsp;2.&nbsp;6.] <br>\n",
        "&nbsp;&nbsp;[5.&nbsp;3.&nbsp;5.&nbsp;8.]] <br>\n",
        "\n",
        "&nbsp;[[9.&nbsp;7.&nbsp;9.&nbsp;3.] <br>\n",
        "&nbsp;&nbsp;[2.&nbsp;3.&nbsp;8.&nbsp;4.]] <br>\n",
        "\n",
        "&nbsp;[[6.&nbsp;2.&nbsp;6.&nbsp;4.] <br>\n",
        "&nbsp;&nbsp;[3.&nbsp;3.&nbsp;8.&nbsp;3.]]] <br>\n",
        "        </tt></td> \n",
        "    </tr>\n",
        "</table>"
      ]
    },
    {
      "cell_type": "markdown",
      "metadata": {
        "id": "DSFkB5s8o6YJ",
        "colab_type": "text"
      },
      "source": [
        "#### Test Example 2:"
      ]
    },
    {
      "cell_type": "code",
      "metadata": {
        "id": "3WH3kTQwo6YJ",
        "colab_type": "code",
        "colab": {},
        "outputId": "720a51db-3495-4aff-bea7-a2bfdc806c41"
      },
      "source": [
        "data = get_data_2()\n",
        "d = 4\n",
        "print(slice_random_point(data, d)[1])"
      ],
      "execution_count": 0,
      "outputs": [
        {
          "output_type": "stream",
          "text": [
            "[[0. 0. 0. 0. 0. 0. 0. 0. 0. 0. 0. 0. 0. 0. 0. 0. 0. 0. 0. 0. 0. 0. 0. 0.\n",
            "  0. 0. 0. 0. 0. 0. 0. 0. 0. 0. 0. 0. 0. 0. 0. 0.]\n",
            " [0. 0. 0. 0. 0. 0. 0. 0. 0. 0. 0. 0. 0. 0. 0. 0. 0. 0. 0. 0. 0. 0. 0. 0.\n",
            "  0. 0. 0. 0. 0. 0. 0. 0. 0. 0. 0. 0. 0. 0. 0. 0.]\n",
            " [0. 0. 0. 0. 0. 0. 0. 0. 0. 0. 0. 0. 0. 0. 0. 0. 0. 0. 0. 0. 0. 0. 0. 0.\n",
            "  0. 0. 0. 0. 0. 0. 0. 0. 0. 0. 0. 0. 0. 0. 0. 0.]\n",
            " [0. 0. 0. 0. 0. 0. 0. 0. 0. 0. 0. 0. 0. 0. 0. 0. 0. 0. 0. 0. 0. 0. 0. 0.\n",
            "  0. 0. 0. 0. 0. 0. 0. 0. 0. 0. 0. 0. 0. 0. 0. 0.]]\n"
          ],
          "name": "stdout"
        }
      ]
    },
    {
      "cell_type": "markdown",
      "metadata": {
        "id": "5t8oGywko6YK",
        "colab_type": "text"
      },
      "source": [
        "**Expected Output 2**: \n",
        "<table style = \"align:40%\">\n",
        "    <tr>\n",
        "        <td style=\"text-align:left;\"><tt><b> slice_random_point(<br>data, d)[1] </b></tt></td> \n",
        "        <td style=\"text-align:left;\"><tt>\n",
        "[[3.&nbsp;3.&nbsp;7.&nbsp;9.&nbsp;9.&nbsp;9.&nbsp;7.&nbsp;3.&nbsp;2.&nbsp;3.&nbsp;9.&nbsp;7.&nbsp;7.&nbsp;5.&nbsp;1.&nbsp;2.&nbsp;2.&nbsp;8.&nbsp;1.&nbsp;5.&nbsp;8.&nbsp;4.&nbsp;0.&nbsp;2. <br>\n",
        "&nbsp;&nbsp;5.&nbsp;5.&nbsp;0.&nbsp;8.&nbsp;1.&nbsp;1.&nbsp;0.&nbsp;3.&nbsp;8.&nbsp;8.&nbsp;4.&nbsp;4.&nbsp;0.&nbsp;9.&nbsp;3.&nbsp;7.] <br>\n",
        "&nbsp;[3.&nbsp;2.&nbsp;1.&nbsp;1.&nbsp;2.&nbsp;1.&nbsp;4.&nbsp;2.&nbsp;5.&nbsp;5.&nbsp;5.&nbsp;2.&nbsp;5.&nbsp;7.&nbsp;7.&nbsp;6.&nbsp;1.&nbsp;6.&nbsp;7.&nbsp;2.&nbsp;3.&nbsp;1.&nbsp;9.&nbsp;5. <br>\n",
        "&nbsp;&nbsp;9.&nbsp;9.&nbsp;2.&nbsp;0.&nbsp;9.&nbsp;1.&nbsp;9.&nbsp;0.&nbsp;6.&nbsp;0.&nbsp;4.&nbsp;8.&nbsp;4.&nbsp;3.&nbsp;3.&nbsp;8.] <br>\n",
        "&nbsp;[8.&nbsp;7.&nbsp;0.&nbsp;3.&nbsp;8.&nbsp;7.&nbsp;7.&nbsp;1.&nbsp;8.&nbsp;4.&nbsp;7.&nbsp;0.&nbsp;4.&nbsp;9.&nbsp;0.&nbsp;6.&nbsp;4.&nbsp;2.&nbsp;4.&nbsp;6.&nbsp;3.&nbsp;3.&nbsp;7.&nbsp;8. <br>\n",
        "&nbsp;&nbsp;5.&nbsp;0.&nbsp;8.&nbsp;5.&nbsp;4.&nbsp;7.&nbsp;4.&nbsp;1.&nbsp;3.&nbsp;3.&nbsp;9.&nbsp;2.&nbsp;5.&nbsp;2.&nbsp;3.&nbsp;5.] <br>\n",
        "&nbsp;[7.&nbsp;2.&nbsp;7.&nbsp;1.&nbsp;6.&nbsp;5.&nbsp;0.&nbsp;0.&nbsp;3.&nbsp;1.&nbsp;9.&nbsp;9.&nbsp;6.&nbsp;6.&nbsp;7.&nbsp;8.&nbsp;8.&nbsp;7.&nbsp;0.&nbsp;8.&nbsp;6.&nbsp;8.&nbsp;9.&nbsp;8. <br>\n",
        "&nbsp;&nbsp;3.&nbsp;6.&nbsp;1.&nbsp;7.&nbsp;4.&nbsp;9.&nbsp;2.&nbsp;0.&nbsp;8.&nbsp;2.&nbsp;7.&nbsp;8.&nbsp;4.&nbsp;4.&nbsp;1.&nbsp;7.]]\n",
        "        </tt></td> \n",
        "    </tr>\n",
        "</table>"
      ]
    },
    {
      "cell_type": "markdown",
      "metadata": {
        "id": "I1BvE-xBo6YL",
        "colab_type": "text"
      },
      "source": [
        "---"
      ]
    },
    {
      "cell_type": "markdown",
      "metadata": {
        "id": "D_9Ikboqo6YL",
        "colab_type": "text"
      },
      "source": [
        "### 3.4 Padding: Ending Pattern\n",
        "Takes one 3-dimensional array. Your task is to pad the instances from the end position as shown in the example below. That is, you need to pad the reflection of the utterance mirrored along the edge values of the array.\n",
        "\n",
        "To the extent that it is helpful, a formal description provided in the Appendix.\n",
        "\n",
        "**Your Task:** Implement the function `pad_ending_pattern`."
      ]
    },
    {
      "cell_type": "code",
      "metadata": {
        "id": "A2xyUXt8o6YL",
        "colab_type": "code",
        "colab": {}
      },
      "source": [
        "def pad_ending_pattern(x):\n",
        "    \"\"\"\n",
        "    Takes one 3-dimensional array. Your task is to pad the instances from \n",
        "    the end position as shown in the example below. That is, you need to \n",
        "    pads with the reflection of the vector mirrored along the edge of the array.\n",
        "    \n",
        "    Parameters: \n",
        "    x (numpy.ndarray): 1-d numpy array with 2-d numpy arrays as elements.\n",
        "    \n",
        "    Returns: \n",
        "    numpy.ndarray: 3-dimensional int numpy array\n",
        "    \"\"\"\n",
        "    spectrograms = x\n",
        "    \n",
        "    # Input function dimension specification\n",
        "    assert(spectrograms.ndim == 1)\n",
        "    for utter in spectrograms:\n",
        "        assert(utter.ndim == 2)\n",
        "\n",
        "    # Pre-define output function dimension specification\n",
        "    dim1 = spectrograms.shape[0]    # n\n",
        "    dim2 = max([utter.shape[0] for utter in spectrograms]) # m\n",
        "    dim3 = spectrograms[0].shape[1] # k\n",
        "\n",
        "    result = np.zeros((dim1, dim2, dim3))\n",
        "\n",
        "    #### Start of your code ####\n",
        "\n",
        "    \n",
        "    \n",
        "    ####  End of your code  ####\n",
        "\n",
        "    # Assert output function dimension specification\n",
        "    assert(result.shape[0] == dim1)\n",
        "    assert(result.shape[1] == dim2)\n",
        "    assert(result.shape[2] == dim3)\n",
        "    \n",
        "    return result"
      ],
      "execution_count": 0,
      "outputs": []
    },
    {
      "cell_type": "markdown",
      "metadata": {
        "id": "1w2pmXnVo6YO",
        "colab_type": "text"
      },
      "source": [
        "#### Test Example 1:"
      ]
    },
    {
      "cell_type": "code",
      "metadata": {
        "id": "8dwfoZ2Zo6YO",
        "colab_type": "code",
        "colab": {},
        "outputId": "3a0981e2-d80d-4a3f-981d-4ca3a2f36255"
      },
      "source": [
        "spectrograms = get_data_1()\n",
        "duration = 2\n",
        "print(pad_ending_pattern(spectrograms))"
      ],
      "execution_count": 0,
      "outputs": [
        {
          "output_type": "stream",
          "text": [
            "[[[0. 0. 0. 0.]\n",
            "  [0. 0. 0. 0.]\n",
            "  [0. 0. 0. 0.]\n",
            "  [0. 0. 0. 0.]]\n",
            "\n",
            " [[0. 0. 0. 0.]\n",
            "  [0. 0. 0. 0.]\n",
            "  [0. 0. 0. 0.]\n",
            "  [0. 0. 0. 0.]]\n",
            "\n",
            " [[0. 0. 0. 0.]\n",
            "  [0. 0. 0. 0.]\n",
            "  [0. 0. 0. 0.]\n",
            "  [0. 0. 0. 0.]]]\n"
          ],
          "name": "stdout"
        }
      ]
    },
    {
      "cell_type": "markdown",
      "metadata": {
        "id": "ZhIjxYBfo6YP",
        "colab_type": "text"
      },
      "source": [
        "#### Expected Output 1\n",
        "<img src=\"https://github.com/cyyeh/cmu-dl/blob/master/assignments/hw0/images/ex3-4.png?raw=1\" width=\"600\">"
      ]
    },
    {
      "cell_type": "markdown",
      "metadata": {
        "id": "dPiXBXwVo6YQ",
        "colab_type": "text"
      },
      "source": [
        "<table style = \"align:40%\">\n",
        "    <tr>\n",
        "        <td style=\"text-align:left;\"><tt><b> pad_ending_pattern(spectrograms) </b></tt></td> \n",
        "        <td style=\"text-align:left;\"><tt>\n",
        "[[[3.&nbsp;1.&nbsp;4.&nbsp;1.] <br>\n",
        "&nbsp;&nbsp;[5.&nbsp;9.&nbsp;2.&nbsp;6.] <br>\n",
        "&nbsp;&nbsp;[5.&nbsp;3.&nbsp;5.&nbsp;8.] <br>\n",
        "&nbsp;&nbsp;[5.&nbsp;3.&nbsp;5.&nbsp;8.]] <br>\n",
        "\n",
        "&nbsp;[[9.&nbsp;7.&nbsp;9.&nbsp;3.] <br>\n",
        "&nbsp;&nbsp;[2.&nbsp;3.&nbsp;8.&nbsp;4.] <br>\n",
        "&nbsp;&nbsp;[2.&nbsp;3.&nbsp;8.&nbsp;4.] <br>\n",
        "&nbsp;&nbsp;[9.&nbsp;7.&nbsp;9.&nbsp;3.]] <br>\n",
        "\n",
        "&nbsp;[[6.&nbsp;2.&nbsp;6.&nbsp;4.] <br>\n",
        "&nbsp;&nbsp;[3.&nbsp;3.&nbsp;8.&nbsp;3.] <br>\n",
        "&nbsp;&nbsp;[2.&nbsp;7.&nbsp;9.&nbsp;5.] <br>\n",
        "&nbsp;&nbsp;[0.&nbsp;2.&nbsp;8.&nbsp;8.]]]\n",
        "        </tt></td> \n",
        "    </tr>\n",
        "</table>"
      ]
    },
    {
      "cell_type": "markdown",
      "metadata": {
        "id": "fDKF_hcmo6YR",
        "colab_type": "text"
      },
      "source": [
        "#### Test Example 2:"
      ]
    },
    {
      "cell_type": "code",
      "metadata": {
        "id": "-7mBdd8To6YR",
        "colab_type": "code",
        "colab": {},
        "outputId": "82c79305-5843-4196-a6c1-ad36bd6c71a3"
      },
      "source": [
        "data = get_data_2()\n",
        "print(pad_ending_pattern(data)[4])"
      ],
      "execution_count": 0,
      "outputs": [
        {
          "output_type": "stream",
          "text": [
            "[[0. 0. 0. 0. 0. 0. 0. 0. 0. 0. 0. 0. 0. 0. 0. 0. 0. 0. 0. 0. 0. 0. 0. 0.\n",
            "  0. 0. 0. 0. 0. 0. 0. 0. 0. 0. 0. 0. 0. 0. 0. 0.]\n",
            " [0. 0. 0. 0. 0. 0. 0. 0. 0. 0. 0. 0. 0. 0. 0. 0. 0. 0. 0. 0. 0. 0. 0. 0.\n",
            "  0. 0. 0. 0. 0. 0. 0. 0. 0. 0. 0. 0. 0. 0. 0. 0.]\n",
            " [0. 0. 0. 0. 0. 0. 0. 0. 0. 0. 0. 0. 0. 0. 0. 0. 0. 0. 0. 0. 0. 0. 0. 0.\n",
            "  0. 0. 0. 0. 0. 0. 0. 0. 0. 0. 0. 0. 0. 0. 0. 0.]\n",
            " [0. 0. 0. 0. 0. 0. 0. 0. 0. 0. 0. 0. 0. 0. 0. 0. 0. 0. 0. 0. 0. 0. 0. 0.\n",
            "  0. 0. 0. 0. 0. 0. 0. 0. 0. 0. 0. 0. 0. 0. 0. 0.]\n",
            " [0. 0. 0. 0. 0. 0. 0. 0. 0. 0. 0. 0. 0. 0. 0. 0. 0. 0. 0. 0. 0. 0. 0. 0.\n",
            "  0. 0. 0. 0. 0. 0. 0. 0. 0. 0. 0. 0. 0. 0. 0. 0.]\n",
            " [0. 0. 0. 0. 0. 0. 0. 0. 0. 0. 0. 0. 0. 0. 0. 0. 0. 0. 0. 0. 0. 0. 0. 0.\n",
            "  0. 0. 0. 0. 0. 0. 0. 0. 0. 0. 0. 0. 0. 0. 0. 0.]\n",
            " [0. 0. 0. 0. 0. 0. 0. 0. 0. 0. 0. 0. 0. 0. 0. 0. 0. 0. 0. 0. 0. 0. 0. 0.\n",
            "  0. 0. 0. 0. 0. 0. 0. 0. 0. 0. 0. 0. 0. 0. 0. 0.]\n",
            " [0. 0. 0. 0. 0. 0. 0. 0. 0. 0. 0. 0. 0. 0. 0. 0. 0. 0. 0. 0. 0. 0. 0. 0.\n",
            "  0. 0. 0. 0. 0. 0. 0. 0. 0. 0. 0. 0. 0. 0. 0. 0.]]\n"
          ],
          "name": "stdout"
        }
      ]
    },
    {
      "cell_type": "markdown",
      "metadata": {
        "id": "i12mDIZDo6YT",
        "colab_type": "text"
      },
      "source": [
        "**Expected Output 2**: \n",
        "<table style = \"align:40%\">\n",
        "    <tr>\n",
        "        <td style=\"text-align:left;\"><tt><b> pad_ending_pattern(<br>data)[4] </b></tt></td> \n",
        "        <td style=\"text-align:left;\"><tt>\n",
        "[[8.&nbsp;2.&nbsp;4.&nbsp;3.&nbsp;1.&nbsp;6.&nbsp;5.&nbsp;8.&nbsp;4.&nbsp;3.&nbsp;6.&nbsp;5.&nbsp;3.&nbsp;7.&nbsp;8.&nbsp;8.&nbsp;3.&nbsp;7.&nbsp;8.&nbsp;5.&nbsp;7.&nbsp;2.&nbsp;7.&nbsp;8. <br>\n",
        "&nbsp;&nbsp;0.&nbsp;7.&nbsp;4.&nbsp;8.&nbsp;4.&nbsp;4.&nbsp;0.&nbsp;4.&nbsp;8.&nbsp;0.&nbsp;0.&nbsp;4.&nbsp;7.&nbsp;3.&nbsp;7.&nbsp;7.] <br>\n",
        "&nbsp;[2.&nbsp;2.&nbsp;1.&nbsp;7.&nbsp;0.&nbsp;7.&nbsp;5.&nbsp;9.&nbsp;7.&nbsp;1.&nbsp;1.&nbsp;2.&nbsp;4.&nbsp;1.&nbsp;4.&nbsp;5.&nbsp;8.&nbsp;2.&nbsp;1.&nbsp;6.&nbsp;3.&nbsp;0.&nbsp;3.&nbsp;9. <br>\n",
        "&nbsp;&nbsp;5.&nbsp;1.&nbsp;3.&nbsp;7.&nbsp;1.&nbsp;1.&nbsp;7.&nbsp;9.&nbsp;4.&nbsp;2.&nbsp;0.&nbsp;3.&nbsp;2.&nbsp;4.&nbsp;0.&nbsp;0.] <br>\n",
        "&nbsp;[9.&nbsp;3.&nbsp;8.&nbsp;3.&nbsp;0.&nbsp;4.&nbsp;4.&nbsp;0.&nbsp;2.&nbsp;5.&nbsp;5.&nbsp;8.&nbsp;2.&nbsp;7.&nbsp;3.&nbsp;6.&nbsp;1.&nbsp;0.&nbsp;2.&nbsp;2.&nbsp;5.&nbsp;5.&nbsp;1.&nbsp;2. <br>\n",
        "&nbsp;&nbsp;8.&nbsp;7.&nbsp;3.&nbsp;7.&nbsp;3.&nbsp;1.&nbsp;0.&nbsp;1.&nbsp;0.&nbsp;8.&nbsp;8.&nbsp;5.&nbsp;3.&nbsp;3.&nbsp;1.&nbsp;0.] <br>\n",
        "&nbsp;[6.&nbsp;1.&nbsp;6.&nbsp;9.&nbsp;5.&nbsp;7.&nbsp;0.&nbsp;1.&nbsp;4.&nbsp;9.&nbsp;5.&nbsp;1.&nbsp;6.&nbsp;5.&nbsp;4.&nbsp;4.&nbsp;4.&nbsp;7.&nbsp;2.&nbsp;2.&nbsp;6.&nbsp;5.&nbsp;3.&nbsp;0. <br>\n",
        "&nbsp;&nbsp;8.&nbsp;8.&nbsp;1.&nbsp;8.&nbsp;7.&nbsp;5.&nbsp;7.&nbsp;9.&nbsp;4.&nbsp;0.&nbsp;7.&nbsp;2.&nbsp;3.&nbsp;9.&nbsp;5.&nbsp;4.] <br>\n",
        "&nbsp;[0.&nbsp;4.&nbsp;5.&nbsp;8.&nbsp;1.&nbsp;4.&nbsp;8.&nbsp;0.&nbsp;1.&nbsp;1.&nbsp;8.&nbsp;9.&nbsp;4.&nbsp;9.&nbsp;0.&nbsp;3.&nbsp;0.&nbsp;7.&nbsp;0.&nbsp;8.&nbsp;1.&nbsp;2.&nbsp;8.&nbsp;5. <br>\n",
        "&nbsp;&nbsp;8.&nbsp;2.&nbsp;1.&nbsp;3.&nbsp;5.&nbsp;0.&nbsp;2.&nbsp;5.&nbsp;8.&nbsp;6.&nbsp;2.&nbsp;7.&nbsp;7.&nbsp;1.&nbsp;8.&nbsp;4.] <br>\n",
        "&nbsp;[9.&nbsp;3.&nbsp;3.&nbsp;2.&nbsp;9.&nbsp;0.&nbsp;4.&nbsp;6.&nbsp;4.&nbsp;3.&nbsp;2.&nbsp;3.&nbsp;1.&nbsp;1.&nbsp;2.&nbsp;7.&nbsp;2.&nbsp;7.&nbsp;0.&nbsp;1.&nbsp;8.&nbsp;0.&nbsp;5.&nbsp;2. <br>\n",
        "&nbsp;&nbsp;8.&nbsp;0.&nbsp;4.&nbsp;0.&nbsp;3.&nbsp;8.&nbsp;1.&nbsp;6.&nbsp;4.&nbsp;6.&nbsp;9.&nbsp;6.&nbsp;4.&nbsp;7.&nbsp;2.&nbsp;9.] <br>\n",
        "&nbsp;[9.&nbsp;3.&nbsp;3.&nbsp;2.&nbsp;9.&nbsp;0.&nbsp;4.&nbsp;6.&nbsp;4.&nbsp;3.&nbsp;2.&nbsp;3.&nbsp;1.&nbsp;1.&nbsp;2.&nbsp;7.&nbsp;2.&nbsp;7.&nbsp;0.&nbsp;1.&nbsp;8.&nbsp;0.&nbsp;5.&nbsp;2. <br>\n",
        "&nbsp;&nbsp;8.&nbsp;0.&nbsp;4.&nbsp;0.&nbsp;3.&nbsp;8.&nbsp;1.&nbsp;6.&nbsp;4.&nbsp;6.&nbsp;9.&nbsp;6.&nbsp;4.&nbsp;7.&nbsp;2.&nbsp;9.] <br>\n",
        "&nbsp;[0.&nbsp;4.&nbsp;5.&nbsp;8.&nbsp;1.&nbsp;4.&nbsp;8.&nbsp;0.&nbsp;1.&nbsp;1.&nbsp;8.&nbsp;9.&nbsp;4.&nbsp;9.&nbsp;0.&nbsp;3.&nbsp;0.&nbsp;7.&nbsp;0.&nbsp;8.&nbsp;1.&nbsp;2.&nbsp;8.&nbsp;5. <br>\n",
        "&nbsp;&nbsp;8.&nbsp;2.&nbsp;1.&nbsp;3.&nbsp;5.&nbsp;0.&nbsp;2.&nbsp;5.&nbsp;8.&nbsp;6.&nbsp;2.&nbsp;7.&nbsp;7.&nbsp;1.&nbsp;8.&nbsp;4.]]\n",
        "        </tt></td> \n",
        "    </tr>\n",
        "</table>"
      ]
    },
    {
      "cell_type": "markdown",
      "metadata": {
        "id": "_dO7t-C1o6YU",
        "colab_type": "text"
      },
      "source": [
        "---"
      ]
    },
    {
      "cell_type": "markdown",
      "metadata": {
        "id": "Ilec7PT-o6YU",
        "colab_type": "text"
      },
      "source": [
        "### 3.5 Padding: Constant Central Pattern\n",
        "Takes one 3-dimensional array with the constant value of padding. Your task is to pad the instances with the given constant value while maintaining the array at the center of the padding.\n",
        "\n",
        "To the extent that it is helpful, a formal description provided in the Appendix.\n",
        "\n",
        "**Your Task:** Implement the function `pad_constant_central_pattern`."
      ]
    },
    {
      "cell_type": "code",
      "metadata": {
        "id": "-OGe0yo3o6YU",
        "colab_type": "code",
        "colab": {}
      },
      "source": [
        "def pad_constant_central_pattern(x, cval):\n",
        "    \"\"\"\n",
        "    Takes one 3-dimensional array with the constant value of padding. \n",
        "    Your task is to pad the instances with the given constant value while\n",
        "    maintaining the array at the center of the padding.\n",
        "\n",
        "    Parameters: \n",
        "    x (numpy.ndarray): 1-d numpy array with 2-d numpy arrays as elements.\n",
        "    cval (numpy.int64): scalar quantity.\n",
        "    \n",
        "    Returns: \n",
        "    numpy.ndarray: 3-dimensional int numpy array, (n, m, k).\n",
        "    \"\"\"\n",
        "    spectrograms = x\n",
        "    \n",
        "    # Input function dimension specification\n",
        "    assert(spectrograms.ndim == 1)\n",
        "    for utter in spectrograms:\n",
        "        assert(utter.ndim == 2)\n",
        "\n",
        "    dim1 = spectrograms.shape[0]    # n\n",
        "    dim2 = max([utter.shape[0] for utter in spectrograms]) # m\n",
        "    dim3 = spectrograms[0].shape[1] # k\n",
        "\n",
        "    result = np.ones((dim1,dim2,dim3))\n",
        "\n",
        "    #### Start of your code ####\n",
        "\n",
        "    \n",
        "    \n",
        "    \n",
        "    \n",
        "    \n",
        "    ####  End of your code  ####\n",
        "\n",
        "    # Assert output function dimension specification\n",
        "    assert(result.shape[0] == dim1)\n",
        "    assert(result.shape[1] == dim2)\n",
        "    assert(result.shape[2] == dim3)\n",
        "    \n",
        "    return result"
      ],
      "execution_count": 0,
      "outputs": []
    },
    {
      "cell_type": "markdown",
      "metadata": {
        "id": "yd_sWAURo6YW",
        "colab_type": "text"
      },
      "source": [
        "#### Test Example 1:"
      ]
    },
    {
      "cell_type": "code",
      "metadata": {
        "id": "kFJeXM_3o6YW",
        "colab_type": "code",
        "colab": {},
        "outputId": "e4102520-062d-431c-80fc-d4dc983ac124"
      },
      "source": [
        "spectrograms = get_data_1()\n",
        "duration = 2\n",
        "print(pad_constant_central_pattern(spectrograms, 0))"
      ],
      "execution_count": 0,
      "outputs": [
        {
          "output_type": "stream",
          "text": [
            "[[[1. 1. 1. 1.]\n",
            "  [1. 1. 1. 1.]\n",
            "  [1. 1. 1. 1.]\n",
            "  [1. 1. 1. 1.]]\n",
            "\n",
            " [[1. 1. 1. 1.]\n",
            "  [1. 1. 1. 1.]\n",
            "  [1. 1. 1. 1.]\n",
            "  [1. 1. 1. 1.]]\n",
            "\n",
            " [[1. 1. 1. 1.]\n",
            "  [1. 1. 1. 1.]\n",
            "  [1. 1. 1. 1.]\n",
            "  [1. 1. 1. 1.]]]\n"
          ],
          "name": "stdout"
        }
      ]
    },
    {
      "cell_type": "markdown",
      "metadata": {
        "id": "y1IofTDjo6YX",
        "colab_type": "text"
      },
      "source": [
        "#### Expected Output 1\n",
        "\n",
        "<img src=\"https://github.com/cyyeh/cmu-dl/blob/master/assignments/hw0/images/ex3-5.png?raw=1\" width=\"600\">"
      ]
    },
    {
      "cell_type": "markdown",
      "metadata": {
        "id": "AKUMouNFo6YX",
        "colab_type": "text"
      },
      "source": [
        "<table style = \"align:40%\">\n",
        "    <tr>\n",
        "        <td style=\"text-align:left;\"><tt><b> pad_constant_central_pattern(spectrograms, 0) </b></tt></td> \n",
        "        <td style=\"text-align:left;\"><tt>\n",
        "[[[3.&nbsp;1.&nbsp;4.&nbsp;1.] <br>\n",
        "&nbsp;&nbsp;[5.&nbsp;9.&nbsp;2.&nbsp;6.] <br>\n",
        "&nbsp;&nbsp;[5.&nbsp;3.&nbsp;5.&nbsp;8.] <br>\n",
        "&nbsp;&nbsp;[0.&nbsp;0.&nbsp;0.&nbsp;0.]] <br>\n",
        "\n",
        "&nbsp;[[0.&nbsp;0.&nbsp;0.&nbsp;0.] <br>\n",
        "&nbsp;&nbsp;[9.&nbsp;7.&nbsp;9.&nbsp;3.] <br>\n",
        "&nbsp;&nbsp;[2.&nbsp;3.&nbsp;8.&nbsp;4.] <br>\n",
        "&nbsp;&nbsp;[0.&nbsp;0.&nbsp;0.&nbsp;0.]] <br>\n",
        "\n",
        "&nbsp;[[6.&nbsp;2.&nbsp;6.&nbsp;4.] <br>\n",
        "&nbsp;&nbsp;[3.&nbsp;3.&nbsp;8.&nbsp;3.] <br>\n",
        "&nbsp;&nbsp;[2.&nbsp;7.&nbsp;9.&nbsp;5.] <br>\n",
        "&nbsp;&nbsp;[0.&nbsp;2.&nbsp;8.&nbsp;8.]]]\n",
        "        </tt></td> \n",
        "    </tr>\n",
        "</table>"
      ]
    },
    {
      "cell_type": "markdown",
      "metadata": {
        "id": "DYslp_mco6YY",
        "colab_type": "text"
      },
      "source": [
        "#### Test Example 2:"
      ]
    },
    {
      "cell_type": "code",
      "metadata": {
        "id": "04-scMCDo6YY",
        "colab_type": "code",
        "colab": {},
        "outputId": "c4157b77-b97b-46b2-d27e-186ec62e7b4a"
      },
      "source": [
        "data = get_data_2()\n",
        "print(pad_constant_central_pattern(data, cval = 0)[0])"
      ],
      "execution_count": 0,
      "outputs": [
        {
          "output_type": "stream",
          "text": [
            "[[1. 1. 1. 1. 1. 1. 1. 1. 1. 1. 1. 1. 1. 1. 1. 1. 1. 1. 1. 1. 1. 1. 1. 1.\n",
            "  1. 1. 1. 1. 1. 1. 1. 1. 1. 1. 1. 1. 1. 1. 1. 1.]\n",
            " [1. 1. 1. 1. 1. 1. 1. 1. 1. 1. 1. 1. 1. 1. 1. 1. 1. 1. 1. 1. 1. 1. 1. 1.\n",
            "  1. 1. 1. 1. 1. 1. 1. 1. 1. 1. 1. 1. 1. 1. 1. 1.]\n",
            " [1. 1. 1. 1. 1. 1. 1. 1. 1. 1. 1. 1. 1. 1. 1. 1. 1. 1. 1. 1. 1. 1. 1. 1.\n",
            "  1. 1. 1. 1. 1. 1. 1. 1. 1. 1. 1. 1. 1. 1. 1. 1.]\n",
            " [1. 1. 1. 1. 1. 1. 1. 1. 1. 1. 1. 1. 1. 1. 1. 1. 1. 1. 1. 1. 1. 1. 1. 1.\n",
            "  1. 1. 1. 1. 1. 1. 1. 1. 1. 1. 1. 1. 1. 1. 1. 1.]\n",
            " [1. 1. 1. 1. 1. 1. 1. 1. 1. 1. 1. 1. 1. 1. 1. 1. 1. 1. 1. 1. 1. 1. 1. 1.\n",
            "  1. 1. 1. 1. 1. 1. 1. 1. 1. 1. 1. 1. 1. 1. 1. 1.]\n",
            " [1. 1. 1. 1. 1. 1. 1. 1. 1. 1. 1. 1. 1. 1. 1. 1. 1. 1. 1. 1. 1. 1. 1. 1.\n",
            "  1. 1. 1. 1. 1. 1. 1. 1. 1. 1. 1. 1. 1. 1. 1. 1.]\n",
            " [1. 1. 1. 1. 1. 1. 1. 1. 1. 1. 1. 1. 1. 1. 1. 1. 1. 1. 1. 1. 1. 1. 1. 1.\n",
            "  1. 1. 1. 1. 1. 1. 1. 1. 1. 1. 1. 1. 1. 1. 1. 1.]\n",
            " [1. 1. 1. 1. 1. 1. 1. 1. 1. 1. 1. 1. 1. 1. 1. 1. 1. 1. 1. 1. 1. 1. 1. 1.\n",
            "  1. 1. 1. 1. 1. 1. 1. 1. 1. 1. 1. 1. 1. 1. 1. 1.]]\n"
          ],
          "name": "stdout"
        }
      ]
    },
    {
      "cell_type": "markdown",
      "metadata": {
        "id": "f8KaPRcso6YZ",
        "colab_type": "text"
      },
      "source": [
        "**Expected Output 2**: \n",
        "<table style = \"align:40%\">\n",
        "    <tr>\n",
        "        <td style=\"text-align:left;\"><tt><b> pad_constant_central_pattern(<br>data, cval = 0)[0] </b></tt></td> \n",
        "        <td style=\"text-align:left;\"><tt>\n",
        "[[0.&nbsp;0.&nbsp;0.&nbsp;0.&nbsp;0.&nbsp;0.&nbsp;0.&nbsp;0.&nbsp;0.&nbsp;0.&nbsp;0.&nbsp;0.&nbsp;0.&nbsp;0.&nbsp;0.&nbsp;0.&nbsp;0.&nbsp;0.&nbsp;0.&nbsp;0.&nbsp;0.&nbsp;0.&nbsp;0.&nbsp;0. <br>\n",
        "&nbsp;&nbsp;0.&nbsp;0.&nbsp;0.&nbsp;0.&nbsp;0.&nbsp;0.&nbsp;0.&nbsp;0.&nbsp;0.&nbsp;0.&nbsp;0.&nbsp;0.&nbsp;0.&nbsp;0.&nbsp;0.&nbsp;0.] <br>\n",
        "&nbsp;[3.&nbsp;5.&nbsp;2.&nbsp;4.&nbsp;7.&nbsp;6.&nbsp;8.&nbsp;8.&nbsp;1.&nbsp;6.&nbsp;7.&nbsp;7.&nbsp;8.&nbsp;1.&nbsp;5.&nbsp;9.&nbsp;8.&nbsp;9.&nbsp;4.&nbsp;3.&nbsp;0.&nbsp;3.&nbsp;5.&nbsp;0. <br>\n",
        "&nbsp;&nbsp;2.&nbsp;3.&nbsp;8.&nbsp;1.&nbsp;3.&nbsp;3.&nbsp;3.&nbsp;7.&nbsp;0.&nbsp;1.&nbsp;9.&nbsp;9.&nbsp;0.&nbsp;4.&nbsp;7.&nbsp;3.] <br>\n",
        "&nbsp;[2.&nbsp;7.&nbsp;2.&nbsp;0.&nbsp;0.&nbsp;4.&nbsp;5.&nbsp;5.&nbsp;6.&nbsp;8.&nbsp;4.&nbsp;1.&nbsp;4.&nbsp;9.&nbsp;8.&nbsp;1.&nbsp;1.&nbsp;7.&nbsp;9.&nbsp;9.&nbsp;3.&nbsp;6.&nbsp;7.&nbsp;2. <br>\n",
        "&nbsp;&nbsp;0.&nbsp;3.&nbsp;5.&nbsp;9.&nbsp;4.&nbsp;4.&nbsp;6.&nbsp;4.&nbsp;4.&nbsp;3.&nbsp;4.&nbsp;4.&nbsp;8.&nbsp;4.&nbsp;3.&nbsp;7.] <br>\n",
        "&nbsp;[5.&nbsp;5.&nbsp;0.&nbsp;1.&nbsp;5.&nbsp;9.&nbsp;3.&nbsp;0.&nbsp;5.&nbsp;0.&nbsp;1.&nbsp;2.&nbsp;4.&nbsp;2.&nbsp;0.&nbsp;3.&nbsp;2.&nbsp;0.&nbsp;7.&nbsp;5.&nbsp;9.&nbsp;0.&nbsp;2.&nbsp;7. <br>\n",
        "&nbsp;&nbsp;2.&nbsp;9.&nbsp;2.&nbsp;3.&nbsp;3.&nbsp;2.&nbsp;3.&nbsp;4.&nbsp;1.&nbsp;2.&nbsp;9.&nbsp;1.&nbsp;4.&nbsp;6.&nbsp;8.&nbsp;2.] <br>\n",
        "&nbsp;[3.&nbsp;0.&nbsp;0.&nbsp;6.&nbsp;0.&nbsp;6.&nbsp;3.&nbsp;3.&nbsp;8.&nbsp;8.&nbsp;8.&nbsp;2.&nbsp;3.&nbsp;2.&nbsp;0.&nbsp;8.&nbsp;8.&nbsp;3.&nbsp;8.&nbsp;2.&nbsp;8.&nbsp;4.&nbsp;3.&nbsp;0. <br>\n",
        "&nbsp;&nbsp;4.&nbsp;3.&nbsp;6.&nbsp;9.&nbsp;8.&nbsp;0.&nbsp;8.&nbsp;5.&nbsp;9.&nbsp;0.&nbsp;9.&nbsp;6.&nbsp;5.&nbsp;3.&nbsp;1.&nbsp;8.] <br>\n",
        "&nbsp;[0.&nbsp;4.&nbsp;9.&nbsp;6.&nbsp;5.&nbsp;7.&nbsp;8.&nbsp;8.&nbsp;9.&nbsp;2.&nbsp;8.&nbsp;6.&nbsp;6.&nbsp;9.&nbsp;1.&nbsp;6.&nbsp;8.&nbsp;8.&nbsp;3.&nbsp;2.&nbsp;3.&nbsp;6.&nbsp;3.&nbsp;6. <br>\n",
        "&nbsp;&nbsp;5.&nbsp;7.&nbsp;0.&nbsp;8.&nbsp;4.&nbsp;6.&nbsp;5.&nbsp;8.&nbsp;2.&nbsp;3.&nbsp;9.&nbsp;7.&nbsp;5.&nbsp;3.&nbsp;4.&nbsp;5.] <br>\n",
        "&nbsp;[0.&nbsp;0.&nbsp;0.&nbsp;0.&nbsp;0.&nbsp;0.&nbsp;0.&nbsp;0.&nbsp;0.&nbsp;0.&nbsp;0.&nbsp;0.&nbsp;0.&nbsp;0.&nbsp;0.&nbsp;0.&nbsp;0.&nbsp;0.&nbsp;0.&nbsp;0.&nbsp;0.&nbsp;0.&nbsp;0.&nbsp;0. <br>\n",
        "&nbsp;&nbsp;0.&nbsp;0.&nbsp;0.&nbsp;0.&nbsp;0.&nbsp;0.&nbsp;0.&nbsp;0.&nbsp;0.&nbsp;0.&nbsp;0.&nbsp;0.&nbsp;0.&nbsp;0.&nbsp;0.&nbsp;0.] <br>\n",
        "&nbsp;[0.&nbsp;0.&nbsp;0.&nbsp;0.&nbsp;0.&nbsp;0.&nbsp;0.&nbsp;0.&nbsp;0.&nbsp;0.&nbsp;0.&nbsp;0.&nbsp;0.&nbsp;0.&nbsp;0.&nbsp;0.&nbsp;0.&nbsp;0.&nbsp;0.&nbsp;0.&nbsp;0.&nbsp;0.&nbsp;0.&nbsp;0. <br>\n",
        "&nbsp;&nbsp;0.&nbsp;0.&nbsp;0.&nbsp;0.&nbsp;0.&nbsp;0.&nbsp;0.&nbsp;0.&nbsp;0.&nbsp;0.&nbsp;0.&nbsp;0.&nbsp;0.&nbsp;0.&nbsp;0.&nbsp;0.]]\n",
        "        </tt></td> \n",
        "    </tr>\n",
        "</table>"
      ]
    },
    {
      "cell_type": "markdown",
      "metadata": {
        "id": "soO4wI7Lo6YZ",
        "colab_type": "text"
      },
      "source": [
        "---"
      ]
    },
    {
      "cell_type": "markdown",
      "metadata": {
        "id": "JhyQZl-po6Ya",
        "colab_type": "text"
      },
      "source": [
        "## 4. PyTorch\n",
        "PyTorch is an open-source deep learning library for python, and will be the primary framework throughout the course. You can install PyTorch referring to https://PyTorch.org/get-started/locally/. One of the fundamental concepts in PyTorch is the Tensor, a multi-dimensional matrix containing elements of a single type. Tensors are similar to numpy nd-arrays and tensors support most of the functionality that numpy matrices do.\n",
        "\n",
        "In following exercises, you will familiarize yourself with tensors and more importantly, the PyTorch documentation. It is important to note that for this section we are simply using PyTorch’s tensors as a matrix library, just like numpy. So please do not use functions in torch.nn, like torch.nn.ReLU.\n",
        "\n",
        "In PyTorch, it is very simple to convert between numpy arrays and tensors. PyTorch’s tensor library provides functions to perform the conversion in either direction. In this task, you are to write 2 functions:"
      ]
    },
    {
      "cell_type": "markdown",
      "metadata": {
        "id": "3veg1kUvo6Ya",
        "colab_type": "text"
      },
      "source": [
        "---"
      ]
    },
    {
      "cell_type": "markdown",
      "metadata": {
        "id": "3c5O-ummo6Ya",
        "colab_type": "text"
      },
      "source": [
        "### 4.1 Converting from NumPy to PyTorch Tensor\n",
        "In this task, you will implement a conversion function from arrays to tensors.\n",
        "\n",
        "The function should take a numpy ndarray and convert it to a PyTorch tensor.\n",
        "\n",
        "*Function torch.tensor is one of the simple ways to implement it but please do not use it this time. The PyTorch environment installed on Autolab is not an up-to-date version and does not support this function.*\n",
        "\n",
        "**Your Task**: Implement the function `numpy2tensor`."
      ]
    },
    {
      "cell_type": "code",
      "metadata": {
        "id": "d0LVYLaNo6Ya",
        "colab_type": "code",
        "colab": {}
      },
      "source": [
        "def numpy2tensor(x):\n",
        "    \"\"\"\n",
        "    Creates a torch.Tensor from a numpy.ndarray.\n",
        "\n",
        "    Parameters: \n",
        "    x (numpy.ndarray): 1-dimensional numpy array.\n",
        "\n",
        "    Returns: \n",
        "    torch.Tensor: 1-dimensional torch tensor.\n",
        "    \"\"\"\n",
        "\n",
        "    return NotImplemented"
      ],
      "execution_count": 0,
      "outputs": []
    },
    {
      "cell_type": "markdown",
      "metadata": {
        "id": "5GfV9LyIo6Yd",
        "colab_type": "text"
      },
      "source": [
        "#### Test Example:"
      ]
    },
    {
      "cell_type": "code",
      "metadata": {
        "id": "J-MuCrf2o6Yd",
        "colab_type": "code",
        "colab": {},
        "outputId": "45be73fb-6d71-4568-f7ce-34120a0aa481"
      },
      "source": [
        "X = np.random.randint(-1000, 1000, size=3000)\n",
        "\n",
        "print(type(numpy2tensor(X)))"
      ],
      "execution_count": 0,
      "outputs": [
        {
          "output_type": "stream",
          "text": [
            "<class 'NotImplementedType'>\n"
          ],
          "name": "stdout"
        }
      ]
    },
    {
      "cell_type": "markdown",
      "metadata": {
        "id": "LKOx-UJXo6Yf",
        "colab_type": "text"
      },
      "source": [
        "**Expected Output**: \n",
        "<table style = \"align:40%\">\n",
        "    <tr>\n",
        "        <td style=\"text-align:left;\"><tt><b> type(numpy2tensor(X)) </b></tt></td> \n",
        "        <td style=\"text-align:left;\"><tt> &lt;class &#39;torch.Tensor&#39;&gt; </tt></td> \n",
        "    </tr>\n",
        "</table>"
      ]
    },
    {
      "cell_type": "markdown",
      "metadata": {
        "id": "QeUJfAOUo6Yf",
        "colab_type": "text"
      },
      "source": [
        "---"
      ]
    },
    {
      "cell_type": "markdown",
      "metadata": {
        "id": "JozSH06Mo6Yf",
        "colab_type": "text"
      },
      "source": [
        "### 4.2 Converting from PyTorch Tensor to NumPy\n",
        "\n",
        "In this task, you will implement a conversion function from tensors to arrays.\n",
        "\n",
        "The function should take a PyTorch tensor and convert it to a numpy ndarray.\n",
        "\n",
        "**Your Task**: Implement the function `tensor2numpy`. "
      ]
    },
    {
      "cell_type": "code",
      "metadata": {
        "id": "fuSeSteto6Yg",
        "colab_type": "code",
        "colab": {}
      },
      "source": [
        "def tensor2numpy(x):\n",
        "    \"\"\"\n",
        "    Creates a numpy.ndarray from a torch.Tensor.\n",
        "\n",
        "    Parameters:\n",
        "    x (torch.Tensor): 1-dimensional torch tensor.\n",
        "\n",
        "    Returns:\n",
        "    numpy.ndarray: 1-dimensional numpy array.\n",
        "    \"\"\"\n",
        "\n",
        "    return NotImplemented"
      ],
      "execution_count": 0,
      "outputs": []
    },
    {
      "cell_type": "markdown",
      "metadata": {
        "id": "ayRLmjUEo6Yi",
        "colab_type": "text"
      },
      "source": [
        "#### Test Example:"
      ]
    },
    {
      "cell_type": "code",
      "metadata": {
        "id": "WA31OB3bo6Yi",
        "colab_type": "code",
        "colab": {},
        "outputId": "bfc4986e-a38f-47f3-f045-ea2e1eb2d722"
      },
      "source": [
        "X = np.random.randint(-1000, 1000, size=3000)\n",
        "X = torch.from_numpy(X)\n",
        "\n",
        "print(type(tensor2numpy(X)))"
      ],
      "execution_count": 0,
      "outputs": [
        {
          "output_type": "stream",
          "text": [
            "<class 'NotImplementedType'>\n"
          ],
          "name": "stdout"
        }
      ]
    },
    {
      "cell_type": "markdown",
      "metadata": {
        "id": "rst63KHOo6Yj",
        "colab_type": "text"
      },
      "source": [
        "**Expected Output**: \n",
        "<table style = \"align:40%\">\n",
        "    <tr>\n",
        "        <td style=\"text-align:left;\"><tt><b> type(tensor2numpy(X)) </b></tt></td> \n",
        "        <td style=\"text-align:left;\"><tt> &lt;class &#39;numpy.ndarray&#39;&gt; </tt></td> \n",
        "    </tr>\n",
        "</table>"
      ]
    },
    {
      "cell_type": "markdown",
      "metadata": {
        "id": "0K_Job13o6Yk",
        "colab_type": "text"
      },
      "source": [
        "---"
      ]
    },
    {
      "cell_type": "markdown",
      "metadata": {
        "id": "Y8bpzETuo6Yk",
        "colab_type": "text"
      },
      "source": [
        "### 4.3 Tensor Sum-Products\n",
        "\n",
        "In this task, you will implement the sum-product function for PyTorch Tensors. \n",
        "\n",
        "The function should take two tensors as input and return the sum over all the dimensions of the outer product of two vectors.\n",
        "\n",
        "**Your Task**: Implement the function `tensor_sumproducts`."
      ]
    },
    {
      "cell_type": "code",
      "metadata": {
        "id": "-e7cRbXto6Yk",
        "colab_type": "code",
        "colab": {}
      },
      "source": [
        "def tensor_sumproducts(x,y):\n",
        "    \"\"\"\n",
        "    Sum over all the dimensions of the outer product of two vectors.\n",
        "\n",
        "    Parameters: \n",
        "    x (torch.Tensor): 1-dimensional torch tensor.\n",
        "    y (torch.Tensor): 1-dimensional torch tensor.\n",
        "\n",
        "    Returns: \n",
        "    torch.int64: scalar quantity.\n",
        "    \"\"\"\n",
        "\n",
        "    return NotImplemented"
      ],
      "execution_count": 0,
      "outputs": []
    },
    {
      "cell_type": "markdown",
      "metadata": {
        "id": "XV-nZnS9o6Ym",
        "colab_type": "text"
      },
      "source": [
        "#### Test Example:"
      ]
    },
    {
      "cell_type": "code",
      "metadata": {
        "id": "ZZFkCLNpo6Ym",
        "colab_type": "code",
        "colab": {},
        "outputId": "7000ffcb-ac5e-41df-a67f-66820d13e46d"
      },
      "source": [
        "np.random.seed(0)\n",
        "X = np.random.randint(-1000, 1000, size=3000)\n",
        "X = torch.from_numpy(X)\n",
        "Y = np.random.randint(-1000, 1000, size=3000)\n",
        "Y = torch.from_numpy(Y)\n",
        "\n",
        "print(tensor_sumproducts(X,Y))"
      ],
      "execution_count": 0,
      "outputs": [
        {
          "output_type": "stream",
          "text": [
            "NotImplemented\n"
          ],
          "name": "stdout"
        }
      ]
    },
    {
      "cell_type": "markdown",
      "metadata": {
        "id": "9yYHXDkuo6Yo",
        "colab_type": "text"
      },
      "source": [
        "**Expected Output**: \n",
        "<table style = \"align:40%\">\n",
        "    <tr>\n",
        "        <td style=\"text-align:left;\"><tt><b> tensor_sumproducts(X,Y) </b></tt></td> \n",
        "        <td style=\"text-align:left;\"><tt> tensor(265421520) </tt></td> \n",
        "    </tr>\n",
        "</table>"
      ]
    },
    {
      "cell_type": "markdown",
      "metadata": {
        "id": "qraVVip1o6Yp",
        "colab_type": "text"
      },
      "source": [
        "---"
      ]
    },
    {
      "cell_type": "markdown",
      "metadata": {
        "id": "jbq7v_WRo6Yp",
        "colab_type": "text"
      },
      "source": [
        "### 4.4 Tensor ReLU\n",
        "\n",
        "In this task, you will implement the ReLU function for PyTorch Tensors.\n",
        "\n",
        "The function should take a tensor and calculate the ReLU function on each element.\n",
        "\n",
        "**Your Task**: Implement the function `tensor_ReLU_prime`."
      ]
    },
    {
      "cell_type": "code",
      "metadata": {
        "id": "BGjZ6wkUo6Yp",
        "colab_type": "code",
        "colab": {}
      },
      "source": [
        "def tensor_ReLU(x):\n",
        "    \"\"\"\n",
        "    Applies the rectified linear unit function element-wise.\n",
        "\n",
        "    Parameters: \n",
        "    x (torch.Tensor): 2-dimensional torch tensor.\n",
        "\n",
        "    Returns: \n",
        "    torch.Tensor: 2-dimensional torch tensor.\n",
        "    \"\"\"\n",
        "\n",
        "    return NotImplemented"
      ],
      "execution_count": 0,
      "outputs": []
    },
    {
      "cell_type": "markdown",
      "metadata": {
        "id": "eRoRd6_ho6Yq",
        "colab_type": "text"
      },
      "source": [
        "#### Test Example:"
      ]
    },
    {
      "cell_type": "code",
      "metadata": {
        "id": "OcPO1dPGo6Yr",
        "colab_type": "code",
        "colab": {},
        "outputId": "0e9899b7-4f3f-43f0-f958-ca2753fc9e8c"
      },
      "source": [
        "np.random.seed(0)\n",
        "X = np.random.randint(-1000, 1000, size=(1000,1000))\n",
        "X = torch.from_numpy(X)\n",
        "\n",
        "print(tensor_ReLU(X))"
      ],
      "execution_count": 0,
      "outputs": [
        {
          "output_type": "stream",
          "text": [
            "NotImplemented\n"
          ],
          "name": "stdout"
        }
      ]
    },
    {
      "cell_type": "markdown",
      "metadata": {
        "id": "hLIbo_-6o6Ys",
        "colab_type": "text"
      },
      "source": [
        "**Expected Output**: \n",
        "<table style = \"align:40%\">\n",
        "    <tr>\n",
        "        <td style=\"text-align:left;\"><tt><b> tensor_ReLU(X) </b></tt></td> \n",
        "        <td style=\"text-align:left;\"><tt>\n",
        "            tensor([[&nbsp;&nbsp;0,&nbsp;&nbsp;&nbsp;0,&nbsp;653,&nbsp;&nbsp;...,&nbsp;&nbsp;&nbsp;0,&nbsp;&nbsp;&nbsp;0,&nbsp;&nbsp;&nbsp;0], <br>\n",
        "&nbsp;&nbsp;&nbsp;&nbsp;&nbsp;&nbsp;&nbsp;&nbsp;[&nbsp;&nbsp;0,&nbsp;&nbsp;&nbsp;0,&nbsp;&nbsp;&nbsp;0,&nbsp;&nbsp;...,&nbsp;988,&nbsp;&nbsp;&nbsp;0,&nbsp;&nbsp;&nbsp;0], <br>\n",
        "&nbsp;&nbsp;&nbsp;&nbsp;&nbsp;&nbsp;&nbsp;&nbsp;[265,&nbsp;&nbsp;&nbsp;0,&nbsp;608,&nbsp;&nbsp;...,&nbsp;773,&nbsp;961,&nbsp;&nbsp;&nbsp;0], <br>\n",
        "&nbsp;&nbsp;&nbsp;&nbsp;&nbsp;&nbsp;&nbsp;&nbsp;..., <br>\n",
        "&nbsp;&nbsp;&nbsp;&nbsp;&nbsp;&nbsp;&nbsp;&nbsp;[429,&nbsp;102,&nbsp;&nbsp;&nbsp;0,&nbsp;&nbsp;...,&nbsp;467,&nbsp;118,&nbsp;&nbsp;&nbsp;0], <br>\n",
        "&nbsp;&nbsp;&nbsp;&nbsp;&nbsp;&nbsp;&nbsp;&nbsp;[532,&nbsp;&nbsp;55,&nbsp;&nbsp;&nbsp;0,&nbsp;&nbsp;...,&nbsp;912,&nbsp;779,&nbsp;294], <br>\n",
        "&nbsp;&nbsp;&nbsp;&nbsp;&nbsp;&nbsp;&nbsp;&nbsp;[&nbsp;&nbsp;0,&nbsp;&nbsp;51,&nbsp;&nbsp;&nbsp;0,&nbsp;&nbsp;...,&nbsp;&nbsp;&nbsp;0,&nbsp;&nbsp;&nbsp;0,&nbsp;&nbsp;&nbsp;0]])\n",
        "        </tt></td> \n",
        "    </tr>\n",
        "</table>"
      ]
    },
    {
      "cell_type": "markdown",
      "metadata": {
        "id": "EGdR_1Mro6Yt",
        "colab_type": "text"
      },
      "source": [
        "---"
      ]
    },
    {
      "cell_type": "markdown",
      "metadata": {
        "id": "_zBeYRolo6Yt",
        "colab_type": "text"
      },
      "source": [
        "### 4.5 Tensor ReLU Prime\n",
        "\n",
        "In this task, you will implement the ReLU Prime function for PyTorch Tensors.\n",
        "\n",
        "The function should take a tensor and calculate the derivative of the ReLU function on each element.\n",
        "\n",
        "**Your Task:** Implement the function `tensor_ReLU_prime`."
      ]
    },
    {
      "cell_type": "code",
      "metadata": {
        "id": "Ka9Ae8VGo6Yt",
        "colab_type": "code",
        "colab": {}
      },
      "source": [
        "def tensor_ReLU_prime(x):\n",
        "    \"\"\"\n",
        "    Applies derivative of the rectified linear unit function \n",
        "    element-wise.\n",
        "\n",
        "    Parameters: \n",
        "    x (torch.Tensor): 2-dimensional torch tensor.\n",
        "\n",
        "    Returns: \n",
        "    torch.Tensor: 2-dimensional torch tensor.\n",
        "    \"\"\"\n",
        "\n",
        "    return NotImplemented"
      ],
      "execution_count": 0,
      "outputs": []
    },
    {
      "cell_type": "markdown",
      "metadata": {
        "id": "0k3VSHzzo6Yv",
        "colab_type": "text"
      },
      "source": [
        "#### Test Example:"
      ]
    },
    {
      "cell_type": "code",
      "metadata": {
        "id": "z1dHN2JMo6Yv",
        "colab_type": "code",
        "colab": {},
        "outputId": "91904f66-94e3-4be4-b022-cfa874ccccef"
      },
      "source": [
        "np.random.seed(0)\n",
        "X = np.random.randint(-1000, 1000, size=(1000,1000))\n",
        "X = torch.from_numpy(X)\n",
        "\n",
        "print(tensor_ReLU_prime(X))"
      ],
      "execution_count": 0,
      "outputs": [
        {
          "output_type": "stream",
          "text": [
            "NotImplemented\n"
          ],
          "name": "stdout"
        }
      ]
    },
    {
      "cell_type": "markdown",
      "metadata": {
        "id": "1GFn-2Slo6Yx",
        "colab_type": "text"
      },
      "source": [
        "**Expected Output**: \n",
        "<table style = \"align:40%\">\n",
        "    <tr>\n",
        "        <td style=\"text-align:left;\"><tt><b> tensor_ReLU_prime(X) </b></tt></td> \n",
        "        <td style=\"text-align:left;\"><tt>\n",
        "            tensor([[0,&nbsp;0,&nbsp;1,&nbsp;&nbsp;...,&nbsp;0,&nbsp;0,&nbsp;0], <br>\n",
        "&nbsp;&nbsp;&nbsp;&nbsp;&nbsp;&nbsp;&nbsp;&nbsp;[0,&nbsp;0,&nbsp;0,&nbsp;&nbsp;...,&nbsp;1,&nbsp;0,&nbsp;0], <br>\n",
        "&nbsp;&nbsp;&nbsp;&nbsp;&nbsp;&nbsp;&nbsp;&nbsp;[1,&nbsp;0,&nbsp;1,&nbsp;&nbsp;...,&nbsp;1,&nbsp;1,&nbsp;0], <br>\n",
        "&nbsp;&nbsp;&nbsp;&nbsp;&nbsp;&nbsp;&nbsp;&nbsp;..., <br>\n",
        "&nbsp;&nbsp;&nbsp;&nbsp;&nbsp;&nbsp;&nbsp;&nbsp;[1,&nbsp;1,&nbsp;0,&nbsp;&nbsp;...,&nbsp;1,&nbsp;1,&nbsp;0], <br>\n",
        "&nbsp;&nbsp;&nbsp;&nbsp;&nbsp;&nbsp;&nbsp;&nbsp;[1,&nbsp;1,&nbsp;0,&nbsp;&nbsp;...,&nbsp;1,&nbsp;1,&nbsp;1], <br>\n",
        "&nbsp;&nbsp;&nbsp;&nbsp;&nbsp;&nbsp;&nbsp;&nbsp;[0,&nbsp;1,&nbsp;0,&nbsp;&nbsp;...,&nbsp;0,&nbsp;0,&nbsp;0]])\n",
        "        </tt></td> \n",
        "    </tr>\n",
        "</table>"
      ]
    }
  ]
}